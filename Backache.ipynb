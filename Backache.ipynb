{
 "cells": [
  {
   "cell_type": "code",
   "execution_count": 182,
   "id": "ed0ef2de",
   "metadata": {},
   "outputs": [],
   "source": [
    "import matplotlib.pyplot as plt\n",
    "import numpy as np\n",
    "import pandas as pd\n",
    "import seaborn as sns\n",
    "import sklearn\n",
    "from sklearn import metrics\n",
    "from sklearn.preprocessing import LabelEncoder\n",
    "import warnings\n",
    "from scipy.stats import skew\n",
    "warnings.filterwarnings('ignore')"
   ]
  },
  {
   "cell_type": "code",
   "execution_count": 183,
   "id": "8cc58565",
   "metadata": {},
   "outputs": [
    {
     "data": {
      "text/html": [
       "<div>\n",
       "<style scoped>\n",
       "    .dataframe tbody tr th:only-of-type {\n",
       "        vertical-align: middle;\n",
       "    }\n",
       "\n",
       "    .dataframe tbody tr th {\n",
       "        vertical-align: top;\n",
       "    }\n",
       "\n",
       "    .dataframe thead th {\n",
       "        text-align: right;\n",
       "    }\n",
       "</style>\n",
       "<table border=\"1\" class=\"dataframe\">\n",
       "  <thead>\n",
       "    <tr style=\"text-align: right;\">\n",
       "      <th></th>\n",
       "      <th>pelvic_incidence</th>\n",
       "      <th>pelvic_tilt</th>\n",
       "      <th>lumbar_lordosis_angle</th>\n",
       "      <th>sacral_slope</th>\n",
       "      <th>pelvic_radius</th>\n",
       "      <th>degree_spondylolisthesis</th>\n",
       "      <th>class</th>\n",
       "    </tr>\n",
       "  </thead>\n",
       "  <tbody>\n",
       "    <tr>\n",
       "      <th>0</th>\n",
       "      <td>63.027817</td>\n",
       "      <td>22.552586</td>\n",
       "      <td>39.609117</td>\n",
       "      <td>40.475232</td>\n",
       "      <td>98.672917</td>\n",
       "      <td>-0.254400</td>\n",
       "      <td>Hernia</td>\n",
       "    </tr>\n",
       "    <tr>\n",
       "      <th>1</th>\n",
       "      <td>39.056951</td>\n",
       "      <td>10.060991</td>\n",
       "      <td>25.015378</td>\n",
       "      <td>28.995960</td>\n",
       "      <td>114.405425</td>\n",
       "      <td>4.564259</td>\n",
       "      <td>Hernia</td>\n",
       "    </tr>\n",
       "    <tr>\n",
       "      <th>2</th>\n",
       "      <td>68.832021</td>\n",
       "      <td>22.218482</td>\n",
       "      <td>50.092194</td>\n",
       "      <td>46.613539</td>\n",
       "      <td>105.985135</td>\n",
       "      <td>-3.530317</td>\n",
       "      <td>Hernia</td>\n",
       "    </tr>\n",
       "    <tr>\n",
       "      <th>3</th>\n",
       "      <td>69.297008</td>\n",
       "      <td>24.652878</td>\n",
       "      <td>44.311238</td>\n",
       "      <td>44.644130</td>\n",
       "      <td>101.868495</td>\n",
       "      <td>11.211523</td>\n",
       "      <td>Hernia</td>\n",
       "    </tr>\n",
       "    <tr>\n",
       "      <th>4</th>\n",
       "      <td>49.712859</td>\n",
       "      <td>9.652075</td>\n",
       "      <td>28.317406</td>\n",
       "      <td>40.060784</td>\n",
       "      <td>108.168725</td>\n",
       "      <td>7.918501</td>\n",
       "      <td>Hernia</td>\n",
       "    </tr>\n",
       "    <tr>\n",
       "      <th>...</th>\n",
       "      <td>...</td>\n",
       "      <td>...</td>\n",
       "      <td>...</td>\n",
       "      <td>...</td>\n",
       "      <td>...</td>\n",
       "      <td>...</td>\n",
       "      <td>...</td>\n",
       "    </tr>\n",
       "    <tr>\n",
       "      <th>515</th>\n",
       "      <td>80.111572</td>\n",
       "      <td>33.942432</td>\n",
       "      <td>85.101608</td>\n",
       "      <td>46.169139</td>\n",
       "      <td>125.593624</td>\n",
       "      <td>100.292107</td>\n",
       "      <td>Abnormal</td>\n",
       "    </tr>\n",
       "    <tr>\n",
       "      <th>516</th>\n",
       "      <td>95.480229</td>\n",
       "      <td>46.550053</td>\n",
       "      <td>59.000000</td>\n",
       "      <td>48.930176</td>\n",
       "      <td>96.683903</td>\n",
       "      <td>77.283072</td>\n",
       "      <td>Abnormal</td>\n",
       "    </tr>\n",
       "    <tr>\n",
       "      <th>517</th>\n",
       "      <td>74.094731</td>\n",
       "      <td>18.823727</td>\n",
       "      <td>76.032156</td>\n",
       "      <td>55.271004</td>\n",
       "      <td>128.405731</td>\n",
       "      <td>73.388216</td>\n",
       "      <td>Abnormal</td>\n",
       "    </tr>\n",
       "    <tr>\n",
       "      <th>518</th>\n",
       "      <td>87.679087</td>\n",
       "      <td>20.365613</td>\n",
       "      <td>93.822416</td>\n",
       "      <td>67.313473</td>\n",
       "      <td>120.944829</td>\n",
       "      <td>76.730629</td>\n",
       "      <td>Abnormal</td>\n",
       "    </tr>\n",
       "    <tr>\n",
       "      <th>519</th>\n",
       "      <td>48.259920</td>\n",
       "      <td>16.417462</td>\n",
       "      <td>36.329137</td>\n",
       "      <td>31.842457</td>\n",
       "      <td>94.882336</td>\n",
       "      <td>28.343799</td>\n",
       "      <td>Abnormal</td>\n",
       "    </tr>\n",
       "  </tbody>\n",
       "</table>\n",
       "<p>520 rows × 7 columns</p>\n",
       "</div>"
      ],
      "text/plain": [
       "     pelvic_incidence  pelvic_tilt  lumbar_lordosis_angle  sacral_slope  \\\n",
       "0           63.027817    22.552586              39.609117     40.475232   \n",
       "1           39.056951    10.060991              25.015378     28.995960   \n",
       "2           68.832021    22.218482              50.092194     46.613539   \n",
       "3           69.297008    24.652878              44.311238     44.644130   \n",
       "4           49.712859     9.652075              28.317406     40.060784   \n",
       "..                ...          ...                    ...           ...   \n",
       "515         80.111572    33.942432              85.101608     46.169139   \n",
       "516         95.480229    46.550053              59.000000     48.930176   \n",
       "517         74.094731    18.823727              76.032156     55.271004   \n",
       "518         87.679087    20.365613              93.822416     67.313473   \n",
       "519         48.259920    16.417462              36.329137     31.842457   \n",
       "\n",
       "     pelvic_radius  degree_spondylolisthesis     class  \n",
       "0        98.672917                 -0.254400    Hernia  \n",
       "1       114.405425                  4.564259    Hernia  \n",
       "2       105.985135                 -3.530317    Hernia  \n",
       "3       101.868495                 11.211523    Hernia  \n",
       "4       108.168725                  7.918501    Hernia  \n",
       "..             ...                       ...       ...  \n",
       "515     125.593624                100.292107  Abnormal  \n",
       "516      96.683903                 77.283072  Abnormal  \n",
       "517     128.405731                 73.388216  Abnormal  \n",
       "518     120.944829                 76.730629  Abnormal  \n",
       "519      94.882336                 28.343799  Abnormal  \n",
       "\n",
       "[520 rows x 7 columns]"
      ]
     },
     "execution_count": 183,
     "metadata": {},
     "output_type": "execute_result"
    }
   ],
   "source": [
    "df=pd.read_excel('Backache.xlsx')\n",
    "df"
   ]
  },
  {
   "cell_type": "code",
   "execution_count": 184,
   "id": "77c194d0",
   "metadata": {},
   "outputs": [
    {
     "data": {
      "text/html": [
       "<div>\n",
       "<style scoped>\n",
       "    .dataframe tbody tr th:only-of-type {\n",
       "        vertical-align: middle;\n",
       "    }\n",
       "\n",
       "    .dataframe tbody tr th {\n",
       "        vertical-align: top;\n",
       "    }\n",
       "\n",
       "    .dataframe thead th {\n",
       "        text-align: right;\n",
       "    }\n",
       "</style>\n",
       "<table border=\"1\" class=\"dataframe\">\n",
       "  <thead>\n",
       "    <tr style=\"text-align: right;\">\n",
       "      <th></th>\n",
       "      <th>pelvic_incidence</th>\n",
       "      <th>pelvic_tilt</th>\n",
       "      <th>lumbar_lordosis_angle</th>\n",
       "      <th>sacral_slope</th>\n",
       "      <th>pelvic_radius</th>\n",
       "      <th>degree_spondylolisthesis</th>\n",
       "      <th>class</th>\n",
       "    </tr>\n",
       "  </thead>\n",
       "  <tbody>\n",
       "    <tr>\n",
       "      <th>0</th>\n",
       "      <td>63.027817</td>\n",
       "      <td>22.552586</td>\n",
       "      <td>39.609117</td>\n",
       "      <td>40.475232</td>\n",
       "      <td>98.672917</td>\n",
       "      <td>-0.254400</td>\n",
       "      <td>Hernia</td>\n",
       "    </tr>\n",
       "    <tr>\n",
       "      <th>1</th>\n",
       "      <td>39.056951</td>\n",
       "      <td>10.060991</td>\n",
       "      <td>25.015378</td>\n",
       "      <td>28.995960</td>\n",
       "      <td>114.405425</td>\n",
       "      <td>4.564259</td>\n",
       "      <td>Hernia</td>\n",
       "    </tr>\n",
       "    <tr>\n",
       "      <th>2</th>\n",
       "      <td>68.832021</td>\n",
       "      <td>22.218482</td>\n",
       "      <td>50.092194</td>\n",
       "      <td>46.613539</td>\n",
       "      <td>105.985135</td>\n",
       "      <td>-3.530317</td>\n",
       "      <td>Hernia</td>\n",
       "    </tr>\n",
       "    <tr>\n",
       "      <th>3</th>\n",
       "      <td>69.297008</td>\n",
       "      <td>24.652878</td>\n",
       "      <td>44.311238</td>\n",
       "      <td>44.644130</td>\n",
       "      <td>101.868495</td>\n",
       "      <td>11.211523</td>\n",
       "      <td>Hernia</td>\n",
       "    </tr>\n",
       "    <tr>\n",
       "      <th>4</th>\n",
       "      <td>49.712859</td>\n",
       "      <td>9.652075</td>\n",
       "      <td>28.317406</td>\n",
       "      <td>40.060784</td>\n",
       "      <td>108.168725</td>\n",
       "      <td>7.918501</td>\n",
       "      <td>Hernia</td>\n",
       "    </tr>\n",
       "  </tbody>\n",
       "</table>\n",
       "</div>"
      ],
      "text/plain": [
       "   pelvic_incidence  pelvic_tilt  lumbar_lordosis_angle  sacral_slope  \\\n",
       "0         63.027817    22.552586              39.609117     40.475232   \n",
       "1         39.056951    10.060991              25.015378     28.995960   \n",
       "2         68.832021    22.218482              50.092194     46.613539   \n",
       "3         69.297008    24.652878              44.311238     44.644130   \n",
       "4         49.712859     9.652075              28.317406     40.060784   \n",
       "\n",
       "   pelvic_radius  degree_spondylolisthesis   class  \n",
       "0      98.672917                 -0.254400  Hernia  \n",
       "1     114.405425                  4.564259  Hernia  \n",
       "2     105.985135                 -3.530317  Hernia  \n",
       "3     101.868495                 11.211523  Hernia  \n",
       "4     108.168725                  7.918501  Hernia  "
      ]
     },
     "execution_count": 184,
     "metadata": {},
     "output_type": "execute_result"
    }
   ],
   "source": [
    "df.head()"
   ]
  },
  {
   "cell_type": "code",
   "execution_count": 185,
   "id": "1b42eb94",
   "metadata": {},
   "outputs": [
    {
     "data": {
      "text/plain": [
       "(520, 7)"
      ]
     },
     "execution_count": 185,
     "metadata": {},
     "output_type": "execute_result"
    }
   ],
   "source": [
    "df.shape"
   ]
  },
  {
   "cell_type": "code",
   "execution_count": 186,
   "id": "8ce5e325",
   "metadata": {},
   "outputs": [
    {
     "data": {
      "text/plain": [
       "RangeIndex(start=0, stop=520, step=1)"
      ]
     },
     "execution_count": 186,
     "metadata": {},
     "output_type": "execute_result"
    }
   ],
   "source": [
    "df.index"
   ]
  },
  {
   "cell_type": "code",
   "execution_count": 187,
   "id": "e2558686",
   "metadata": {},
   "outputs": [
    {
     "name": "stdout",
     "output_type": "stream",
     "text": [
      "<class 'pandas.core.frame.DataFrame'>\n",
      "RangeIndex: 520 entries, 0 to 519\n",
      "Data columns (total 7 columns):\n",
      " #   Column                    Non-Null Count  Dtype  \n",
      "---  ------                    --------------  -----  \n",
      " 0   pelvic_incidence          520 non-null    float64\n",
      " 1   pelvic_tilt               520 non-null    float64\n",
      " 2   lumbar_lordosis_angle     520 non-null    float64\n",
      " 3   sacral_slope              520 non-null    float64\n",
      " 4   pelvic_radius             520 non-null    float64\n",
      " 5   degree_spondylolisthesis  520 non-null    float64\n",
      " 6   class                     520 non-null    object \n",
      "dtypes: float64(6), object(1)\n",
      "memory usage: 28.6+ KB\n"
     ]
    }
   ],
   "source": [
    "df.info()"
   ]
  },
  {
   "cell_type": "code",
   "execution_count": 188,
   "id": "2465723b",
   "metadata": {},
   "outputs": [
    {
     "data": {
      "text/plain": [
       "pelvic_incidence            0\n",
       "pelvic_tilt                 0\n",
       "lumbar_lordosis_angle       0\n",
       "sacral_slope                0\n",
       "pelvic_radius               0\n",
       "degree_spondylolisthesis    0\n",
       "class                       0\n",
       "dtype: int64"
      ]
     },
     "execution_count": 188,
     "metadata": {},
     "output_type": "execute_result"
    }
   ],
   "source": [
    "df.isnull().sum()"
   ]
  },
  {
   "cell_type": "code",
   "execution_count": 189,
   "id": "683c7e46",
   "metadata": {},
   "outputs": [
    {
     "data": {
      "text/plain": [
       "pelvic_incidence            float64\n",
       "pelvic_tilt                 float64\n",
       "lumbar_lordosis_angle       float64\n",
       "sacral_slope                float64\n",
       "pelvic_radius               float64\n",
       "degree_spondylolisthesis    float64\n",
       "class                        object\n",
       "dtype: object"
      ]
     },
     "execution_count": 189,
     "metadata": {},
     "output_type": "execute_result"
    }
   ],
   "source": [
    "df.dtypes"
   ]
  },
  {
   "cell_type": "code",
   "execution_count": 190,
   "id": "a57fa34e",
   "metadata": {},
   "outputs": [
    {
     "data": {
      "text/plain": [
       "pelvic_incidence            310\n",
       "pelvic_tilt                 310\n",
       "lumbar_lordosis_angle       280\n",
       "sacral_slope                281\n",
       "pelvic_radius               310\n",
       "degree_spondylolisthesis    310\n",
       "class                         4\n",
       "dtype: int64"
      ]
     },
     "execution_count": 190,
     "metadata": {},
     "output_type": "execute_result"
    }
   ],
   "source": [
    "df.nunique()"
   ]
  },
  {
   "cell_type": "code",
   "execution_count": 191,
   "id": "386aa85a",
   "metadata": {},
   "outputs": [
    {
     "name": "stdout",
     "output_type": "stream",
     "text": [
      "before drop duplicates:  (520, 7)\n",
      "after drop duplicates:  (520, 7)\n"
     ]
    }
   ],
   "source": [
    "print('before drop duplicates: ',df.shape)\n",
    "df=df.drop_duplicates()\n",
    "print('after drop duplicates: ',df.shape)"
   ]
  },
  {
   "cell_type": "code",
   "execution_count": 192,
   "id": "4351e129",
   "metadata": {},
   "outputs": [
    {
     "name": "stdout",
     "output_type": "stream",
     "text": [
      "This dataset has 520 observations with 7 features.\n"
     ]
    }
   ],
   "source": [
    "print('This dataset has {} observations with {} features.'.format(df.shape[0], df.shape[1]))"
   ]
  },
  {
   "cell_type": "code",
   "execution_count": 193,
   "id": "62d52762",
   "metadata": {},
   "outputs": [
    {
     "data": {
      "text/plain": [
       "array([[<AxesSubplot:title={'center':'pelvic_incidence'}>,\n",
       "        <AxesSubplot:title={'center':'pelvic_tilt'}>,\n",
       "        <AxesSubplot:title={'center':'lumbar_lordosis_angle'}>,\n",
       "        <AxesSubplot:title={'center':'sacral_slope'}>,\n",
       "        <AxesSubplot:title={'center':'pelvic_radius'}>,\n",
       "        <AxesSubplot:title={'center':'degree_spondylolisthesis'}>],\n",
       "       [<AxesSubplot:>, <AxesSubplot:>, <AxesSubplot:>, <AxesSubplot:>,\n",
       "        <AxesSubplot:>, <AxesSubplot:>],\n",
       "       [<AxesSubplot:>, <AxesSubplot:>, <AxesSubplot:>, <AxesSubplot:>,\n",
       "        <AxesSubplot:>, <AxesSubplot:>],\n",
       "       [<AxesSubplot:>, <AxesSubplot:>, <AxesSubplot:>, <AxesSubplot:>,\n",
       "        <AxesSubplot:>, <AxesSubplot:>],\n",
       "       [<AxesSubplot:>, <AxesSubplot:>, <AxesSubplot:>, <AxesSubplot:>,\n",
       "        <AxesSubplot:>, <AxesSubplot:>]], dtype=object)"
      ]
     },
     "execution_count": 193,
     "metadata": {},
     "output_type": "execute_result"
    },
    {
     "data": {
      "image/png": "[encoded data removed]",
      "text/plain": [
       "<Figure size 1440x1440 with 30 Axes>"
      ]
     },
     "metadata": {
      "needs_background": "light"
     },
     "output_type": "display_data"
    }
   ],
   "source": [
    "df.hist(figsize=(20,20), grid=False, layout=(5, 6), bins = 30)"
   ]
  },
  {
   "cell_type": "code",
   "execution_count": 194,
   "id": "da8a4384",
   "metadata": {},
   "outputs": [],
   "source": [
    "numerical_features = df.select_dtypes(include=[np.number]).columns\n",
    "categorical_features = df.select_dtypes(include=[np.object]).columns"
   ]
  },
  {
   "cell_type": "code",
   "execution_count": 195,
   "id": "a2df5836",
   "metadata": {},
   "outputs": [
    {
     "data": {
      "text/plain": [
       "Index(['pelvic_incidence', 'pelvic_tilt', 'lumbar_lordosis_angle',\n",
       "       'sacral_slope', 'pelvic_radius', 'degree_spondylolisthesis'],\n",
       "      dtype='object')"
      ]
     },
     "execution_count": 195,
     "metadata": {},
     "output_type": "execute_result"
    }
   ],
   "source": [
    "numerical_features"
   ]
  },
  {
   "cell_type": "code",
   "execution_count": 196,
   "id": "273cdc17",
   "metadata": {},
   "outputs": [
    {
     "data": {
      "text/plain": [
       "Index(['class'], dtype='object')"
      ]
     },
     "execution_count": 196,
     "metadata": {},
     "output_type": "execute_result"
    }
   ],
   "source": [
    "categorical_features"
   ]
  },
  {
   "cell_type": "code",
   "execution_count": 197,
   "id": "2400349b",
   "metadata": {},
   "outputs": [
    {
     "data": {
      "text/html": [
       "<div>\n",
       "<style scoped>\n",
       "    .dataframe tbody tr th:only-of-type {\n",
       "        vertical-align: middle;\n",
       "    }\n",
       "\n",
       "    .dataframe tbody tr th {\n",
       "        vertical-align: top;\n",
       "    }\n",
       "\n",
       "    .dataframe thead th {\n",
       "        text-align: right;\n",
       "    }\n",
       "</style>\n",
       "<table border=\"1\" class=\"dataframe\">\n",
       "  <thead>\n",
       "    <tr style=\"text-align: right;\">\n",
       "      <th></th>\n",
       "      <th>Features</th>\n",
       "      <th>Skewness degree</th>\n",
       "    </tr>\n",
       "  </thead>\n",
       "  <tbody>\n",
       "    <tr>\n",
       "      <th>5</th>\n",
       "      <td>degree_spondylolisthesis</td>\n",
       "      <td>4.184912</td>\n",
       "    </tr>\n",
       "    <tr>\n",
       "      <th>3</th>\n",
       "      <td>sacral_slope</td>\n",
       "      <td>0.735188</td>\n",
       "    </tr>\n",
       "    <tr>\n",
       "      <th>1</th>\n",
       "      <td>pelvic_tilt</td>\n",
       "      <td>0.620183</td>\n",
       "    </tr>\n",
       "    <tr>\n",
       "      <th>2</th>\n",
       "      <td>lumbar_lordosis_angle</td>\n",
       "      <td>0.480664</td>\n",
       "    </tr>\n",
       "    <tr>\n",
       "      <th>0</th>\n",
       "      <td>pelvic_incidence</td>\n",
       "      <td>0.415022</td>\n",
       "    </tr>\n",
       "    <tr>\n",
       "      <th>4</th>\n",
       "      <td>pelvic_radius</td>\n",
       "      <td>-0.065080</td>\n",
       "    </tr>\n",
       "  </tbody>\n",
       "</table>\n",
       "</div>"
      ],
      "text/plain": [
       "                   Features  Skewness degree\n",
       "5  degree_spondylolisthesis         4.184912\n",
       "3              sacral_slope         0.735188\n",
       "1               pelvic_tilt         0.620183\n",
       "2     lumbar_lordosis_angle         0.480664\n",
       "0          pelvic_incidence         0.415022\n",
       "4             pelvic_radius        -0.065080"
      ]
     },
     "execution_count": 197,
     "metadata": {},
     "output_type": "execute_result"
    }
   ],
   "source": [
    "skew_values = skew(df[numerical_features], nan_policy = 'omit')\n",
    "dummy = pd.concat([pd.DataFrame(list(numerical_features), columns=['Features']), \n",
    "           pd.DataFrame(list(skew_values), columns=['Skewness degree'])], axis = 1)\n",
    "dummy.sort_values(by = 'Skewness degree' , ascending = False)"
   ]
  },
  {
   "cell_type": "code",
   "execution_count": 198,
   "id": "db47e0ff",
   "metadata": {},
   "outputs": [],
   "source": [
    "label_encoder= LabelEncoder()"
   ]
  },
  {
   "cell_type": "code",
   "execution_count": 199,
   "id": "8c2402ee",
   "metadata": {},
   "outputs": [
    {
     "data": {
      "text/plain": [
       "array([1, 3, 2, 0])"
      ]
     },
     "execution_count": 199,
     "metadata": {},
     "output_type": "execute_result"
    }
   ],
   "source": [
    "df['class']=label_encoder.fit_transform(df['class'])\n",
    "df['class'].unique()"
   ]
  },
  {
   "cell_type": "code",
   "execution_count": 200,
   "id": "f43ae432",
   "metadata": {},
   "outputs": [
    {
     "data": {
      "text/plain": [
       "<AxesSubplot:xlabel='class', ylabel='count'>"
      ]
     },
     "execution_count": 200,
     "metadata": {},
     "output_type": "execute_result"
    },
    {
     "data": {
      "image/png": "[encoded data removed]",
      "text/plain": [
       "<Figure size 432x288 with 1 Axes>"
      ]
     },
     "metadata": {
      "needs_background": "light"
     },
     "output_type": "display_data"
    }
   ],
   "source": [
    "sns.countplot(x = 'class', data = df, palette=\"Set3\")"
   ]
  },
  {
   "cell_type": "code",
   "execution_count": 201,
   "id": "526e22f5",
   "metadata": {},
   "outputs": [],
   "source": [
    "corr=df.corr()"
   ]
  },
  {
   "cell_type": "code",
   "execution_count": 202,
   "id": "7eb77579",
   "metadata": {},
   "outputs": [
    {
     "data": {
      "text/plain": [
       "<AxesSubplot:>"
      ]
     },
     "execution_count": 202,
     "metadata": {},
     "output_type": "execute_result"
    },
    {
     "data": {
      "image/png": "[encoded data removed]",
      "text/plain": [
       "<Figure size 1440x1440 with 2 Axes>"
      ]
     },
     "metadata": {
      "needs_background": "light"
     },
     "output_type": "display_data"
    }
   ],
   "source": [
    "plt.figure(figsize=(20,20))\n",
    "sns.heatmap(corr, cbar=True, square= True, fmt='.1f', annot=True, annot_kws={'size':15}, cmap='Greens')"
   ]
  },
  {
   "cell_type": "code",
   "execution_count": 203,
   "id": "6694fda5",
   "metadata": {},
   "outputs": [
    {
     "data": {
      "text/plain": [
       "<AxesSubplot:>"
      ]
     },
     "execution_count": 203,
     "metadata": {},
     "output_type": "execute_result"
    },
    {
     "data": {
      "image/png": "[encoded data removed]",
      "text/plain": [
       "<Figure size 1440x1440 with 2 Axes>"
      ]
     },
     "metadata": {
      "needs_background": "light"
     },
     "output_type": "display_data"
    }
   ],
   "source": [
    "import seaborn as sb\n",
    "\n",
    "plt.figure(figsize=(20,20))\n",
    "sns.heatmap(df.corr(), annot=True)"
   ]
  },
  {
   "cell_type": "code",
   "execution_count": 204,
   "id": "c44aa4ee",
   "metadata": {},
   "outputs": [
    {
     "data": {
      "text/html": [
       "<div>\n",
       "<style scoped>\n",
       "    .dataframe tbody tr th:only-of-type {\n",
       "        vertical-align: middle;\n",
       "    }\n",
       "\n",
       "    .dataframe tbody tr th {\n",
       "        vertical-align: top;\n",
       "    }\n",
       "\n",
       "    .dataframe thead th {\n",
       "        text-align: right;\n",
       "    }\n",
       "</style>\n",
       "<table border=\"1\" class=\"dataframe\">\n",
       "  <thead>\n",
       "    <tr style=\"text-align: right;\">\n",
       "      <th></th>\n",
       "      <th>pelvic_incidence</th>\n",
       "      <th>pelvic_tilt</th>\n",
       "      <th>lumbar_lordosis_angle</th>\n",
       "      <th>sacral_slope</th>\n",
       "      <th>pelvic_radius</th>\n",
       "      <th>degree_spondylolisthesis</th>\n",
       "      <th>class</th>\n",
       "    </tr>\n",
       "  </thead>\n",
       "  <tbody>\n",
       "    <tr>\n",
       "      <th>pelvic_incidence</th>\n",
       "      <td>1.000000</td>\n",
       "      <td>0.609295</td>\n",
       "      <td>0.704841</td>\n",
       "      <td>0.810391</td>\n",
       "      <td>-0.188173</td>\n",
       "      <td>0.641340</td>\n",
       "      <td>0.105551</td>\n",
       "    </tr>\n",
       "    <tr>\n",
       "      <th>pelvic_tilt</th>\n",
       "      <td>0.609295</td>\n",
       "      <td>1.000000</td>\n",
       "      <td>0.417068</td>\n",
       "      <td>0.029190</td>\n",
       "      <td>0.111687</td>\n",
       "      <td>0.373624</td>\n",
       "      <td>-0.022893</td>\n",
       "    </tr>\n",
       "    <tr>\n",
       "      <th>lumbar_lordosis_angle</th>\n",
       "      <td>0.704841</td>\n",
       "      <td>0.417068</td>\n",
       "      <td>1.000000</td>\n",
       "      <td>0.580351</td>\n",
       "      <td>-0.026300</td>\n",
       "      <td>0.524030</td>\n",
       "      <td>0.132381</td>\n",
       "    </tr>\n",
       "    <tr>\n",
       "      <th>sacral_slope</th>\n",
       "      <td>0.810391</td>\n",
       "      <td>0.029190</td>\n",
       "      <td>0.580351</td>\n",
       "      <td>1.000000</td>\n",
       "      <td>-0.319732</td>\n",
       "      <td>0.532402</td>\n",
       "      <td>0.149971</td>\n",
       "    </tr>\n",
       "    <tr>\n",
       "      <th>pelvic_radius</th>\n",
       "      <td>-0.188173</td>\n",
       "      <td>0.111687</td>\n",
       "      <td>-0.026300</td>\n",
       "      <td>-0.319732</td>\n",
       "      <td>1.000000</td>\n",
       "      <td>0.033838</td>\n",
       "      <td>0.043301</td>\n",
       "    </tr>\n",
       "    <tr>\n",
       "      <th>degree_spondylolisthesis</th>\n",
       "      <td>0.641340</td>\n",
       "      <td>0.373624</td>\n",
       "      <td>0.524030</td>\n",
       "      <td>0.532402</td>\n",
       "      <td>0.033838</td>\n",
       "      <td>1.000000</td>\n",
       "      <td>0.076308</td>\n",
       "    </tr>\n",
       "    <tr>\n",
       "      <th>class</th>\n",
       "      <td>0.105551</td>\n",
       "      <td>-0.022893</td>\n",
       "      <td>0.132381</td>\n",
       "      <td>0.149971</td>\n",
       "      <td>0.043301</td>\n",
       "      <td>0.076308</td>\n",
       "      <td>1.000000</td>\n",
       "    </tr>\n",
       "  </tbody>\n",
       "</table>\n",
       "</div>"
      ],
      "text/plain": [
       "                          pelvic_incidence  pelvic_tilt  \\\n",
       "pelvic_incidence                  1.000000     0.609295   \n",
       "pelvic_tilt                       0.609295     1.000000   \n",
       "lumbar_lordosis_angle             0.704841     0.417068   \n",
       "sacral_slope                      0.810391     0.029190   \n",
       "pelvic_radius                    -0.188173     0.111687   \n",
       "degree_spondylolisthesis          0.641340     0.373624   \n",
       "class                             0.105551    -0.022893   \n",
       "\n",
       "                          lumbar_lordosis_angle  sacral_slope  pelvic_radius  \\\n",
       "pelvic_incidence                       0.704841      0.810391      -0.188173   \n",
       "pelvic_tilt                            0.417068      0.029190       0.111687   \n",
       "lumbar_lordosis_angle                  1.000000      0.580351      -0.026300   \n",
       "sacral_slope                           0.580351      1.000000      -0.319732   \n",
       "pelvic_radius                         -0.026300     -0.319732       1.000000   \n",
       "degree_spondylolisthesis               0.524030      0.532402       0.033838   \n",
       "class                                  0.132381      0.149971       0.043301   \n",
       "\n",
       "                          degree_spondylolisthesis     class  \n",
       "pelvic_incidence                          0.641340  0.105551  \n",
       "pelvic_tilt                               0.373624 -0.022893  \n",
       "lumbar_lordosis_angle                     0.524030  0.132381  \n",
       "sacral_slope                              0.532402  0.149971  \n",
       "pelvic_radius                             0.033838  0.043301  \n",
       "degree_spondylolisthesis                  1.000000  0.076308  \n",
       "class                                     0.076308  1.000000  "
      ]
     },
     "execution_count": 204,
     "metadata": {},
     "output_type": "execute_result"
    }
   ],
   "source": [
    "df.corr()"
   ]
  },
  {
   "cell_type": "code",
   "execution_count": 205,
   "id": "8c184e5b",
   "metadata": {},
   "outputs": [
    {
     "data": {
      "text/plain": [
       "<AxesSubplot:>"
      ]
     },
     "execution_count": 205,
     "metadata": {},
     "output_type": "execute_result"
    },
    {
     "data": {
      "image/png": "[encoded data removed]",
      "text/plain": [
       "<Figure size 1440x360 with 1 Axes>"
      ]
     },
     "metadata": {
      "needs_background": "light"
     },
     "output_type": "display_data"
    }
   ],
   "source": [
    "df.boxplot( rot = 90, figsize=(20,5))"
   ]
  },
  {
   "cell_type": "code",
   "execution_count": 206,
   "id": "fb4e353a",
   "metadata": {},
   "outputs": [
    {
     "data": {
      "text/plain": [
       "(443, 7)"
      ]
     },
     "execution_count": 206,
     "metadata": {},
     "output_type": "execute_result"
    }
   ],
   "source": [
    "df=df[df['degree_spondylolisthesis']>0]\n",
    "df.shape"
   ]
  },
  {
   "cell_type": "code",
   "execution_count": 207,
   "id": "a7915cfc",
   "metadata": {},
   "outputs": [
    {
     "data": {
      "text/html": [
       "<div>\n",
       "<style scoped>\n",
       "    .dataframe tbody tr th:only-of-type {\n",
       "        vertical-align: middle;\n",
       "    }\n",
       "\n",
       "    .dataframe tbody tr th {\n",
       "        vertical-align: top;\n",
       "    }\n",
       "\n",
       "    .dataframe thead th {\n",
       "        text-align: right;\n",
       "    }\n",
       "</style>\n",
       "<table border=\"1\" class=\"dataframe\">\n",
       "  <thead>\n",
       "    <tr style=\"text-align: right;\">\n",
       "      <th></th>\n",
       "      <th>pelvic_incidence</th>\n",
       "      <th>pelvic_tilt</th>\n",
       "      <th>lumbar_lordosis_angle</th>\n",
       "      <th>sacral_slope</th>\n",
       "      <th>pelvic_radius</th>\n",
       "      <th>degree_spondylolisthesis</th>\n",
       "      <th>class</th>\n",
       "    </tr>\n",
       "  </thead>\n",
       "  <tbody>\n",
       "    <tr>\n",
       "      <th>1</th>\n",
       "      <td>39.06</td>\n",
       "      <td>10.06</td>\n",
       "      <td>25.02</td>\n",
       "      <td>29.00</td>\n",
       "      <td>114.41</td>\n",
       "      <td>4.56</td>\n",
       "      <td>1</td>\n",
       "    </tr>\n",
       "    <tr>\n",
       "      <th>3</th>\n",
       "      <td>69.30</td>\n",
       "      <td>24.65</td>\n",
       "      <td>44.31</td>\n",
       "      <td>44.64</td>\n",
       "      <td>101.87</td>\n",
       "      <td>11.21</td>\n",
       "      <td>1</td>\n",
       "    </tr>\n",
       "    <tr>\n",
       "      <th>4</th>\n",
       "      <td>49.71</td>\n",
       "      <td>9.65</td>\n",
       "      <td>28.32</td>\n",
       "      <td>40.06</td>\n",
       "      <td>108.17</td>\n",
       "      <td>7.92</td>\n",
       "      <td>1</td>\n",
       "    </tr>\n",
       "    <tr>\n",
       "      <th>5</th>\n",
       "      <td>40.25</td>\n",
       "      <td>13.92</td>\n",
       "      <td>25.12</td>\n",
       "      <td>26.33</td>\n",
       "      <td>130.33</td>\n",
       "      <td>2.23</td>\n",
       "      <td>1</td>\n",
       "    </tr>\n",
       "    <tr>\n",
       "      <th>6</th>\n",
       "      <td>53.43</td>\n",
       "      <td>15.86</td>\n",
       "      <td>37.17</td>\n",
       "      <td>37.57</td>\n",
       "      <td>120.57</td>\n",
       "      <td>5.99</td>\n",
       "      <td>1</td>\n",
       "    </tr>\n",
       "    <tr>\n",
       "      <th>...</th>\n",
       "      <td>...</td>\n",
       "      <td>...</td>\n",
       "      <td>...</td>\n",
       "      <td>...</td>\n",
       "      <td>...</td>\n",
       "      <td>...</td>\n",
       "      <td>...</td>\n",
       "    </tr>\n",
       "    <tr>\n",
       "      <th>515</th>\n",
       "      <td>80.11</td>\n",
       "      <td>33.94</td>\n",
       "      <td>85.10</td>\n",
       "      <td>46.17</td>\n",
       "      <td>125.59</td>\n",
       "      <td>100.29</td>\n",
       "      <td>0</td>\n",
       "    </tr>\n",
       "    <tr>\n",
       "      <th>516</th>\n",
       "      <td>95.48</td>\n",
       "      <td>46.55</td>\n",
       "      <td>59.00</td>\n",
       "      <td>48.93</td>\n",
       "      <td>96.68</td>\n",
       "      <td>77.28</td>\n",
       "      <td>0</td>\n",
       "    </tr>\n",
       "    <tr>\n",
       "      <th>517</th>\n",
       "      <td>74.09</td>\n",
       "      <td>18.82</td>\n",
       "      <td>76.03</td>\n",
       "      <td>55.27</td>\n",
       "      <td>128.41</td>\n",
       "      <td>73.39</td>\n",
       "      <td>0</td>\n",
       "    </tr>\n",
       "    <tr>\n",
       "      <th>518</th>\n",
       "      <td>87.68</td>\n",
       "      <td>20.37</td>\n",
       "      <td>93.82</td>\n",
       "      <td>67.31</td>\n",
       "      <td>120.94</td>\n",
       "      <td>76.73</td>\n",
       "      <td>0</td>\n",
       "    </tr>\n",
       "    <tr>\n",
       "      <th>519</th>\n",
       "      <td>48.26</td>\n",
       "      <td>16.42</td>\n",
       "      <td>36.33</td>\n",
       "      <td>31.84</td>\n",
       "      <td>94.88</td>\n",
       "      <td>28.34</td>\n",
       "      <td>0</td>\n",
       "    </tr>\n",
       "  </tbody>\n",
       "</table>\n",
       "<p>443 rows × 7 columns</p>\n",
       "</div>"
      ],
      "text/plain": [
       "     pelvic_incidence  pelvic_tilt  lumbar_lordosis_angle  sacral_slope  \\\n",
       "1               39.06        10.06                  25.02         29.00   \n",
       "3               69.30        24.65                  44.31         44.64   \n",
       "4               49.71         9.65                  28.32         40.06   \n",
       "5               40.25        13.92                  25.12         26.33   \n",
       "6               53.43        15.86                  37.17         37.57   \n",
       "..                ...          ...                    ...           ...   \n",
       "515             80.11        33.94                  85.10         46.17   \n",
       "516             95.48        46.55                  59.00         48.93   \n",
       "517             74.09        18.82                  76.03         55.27   \n",
       "518             87.68        20.37                  93.82         67.31   \n",
       "519             48.26        16.42                  36.33         31.84   \n",
       "\n",
       "     pelvic_radius  degree_spondylolisthesis  class  \n",
       "1           114.41                      4.56      1  \n",
       "3           101.87                     11.21      1  \n",
       "4           108.17                      7.92      1  \n",
       "5           130.33                      2.23      1  \n",
       "6           120.57                      5.99      1  \n",
       "..             ...                       ...    ...  \n",
       "515         125.59                    100.29      0  \n",
       "516          96.68                     77.28      0  \n",
       "517         128.41                     73.39      0  \n",
       "518         120.94                     76.73      0  \n",
       "519          94.88                     28.34      0  \n",
       "\n",
       "[443 rows x 7 columns]"
      ]
     },
     "execution_count": 207,
     "metadata": {},
     "output_type": "execute_result"
    }
   ],
   "source": [
    "df=round(df,2)\n",
    "df"
   ]
  },
  {
   "cell_type": "code",
   "execution_count": 208,
   "id": "70231e68",
   "metadata": {},
   "outputs": [
    {
     "name": "stdout",
     "output_type": "stream",
     "text": [
      "before drop duplicates:  (443, 7)\n",
      "after drop duplicates:  (443, 7)\n"
     ]
    }
   ],
   "source": [
    "print('before drop duplicates: ',df.shape)\n",
    "df=df.drop_duplicates()\n",
    "print('after drop duplicates: ',df.shape)"
   ]
  },
  {
   "cell_type": "code",
   "execution_count": 209,
   "id": "5b06d01b",
   "metadata": {},
   "outputs": [
    {
     "name": "stdout",
     "output_type": "stream",
     "text": [
      "pelvic_incidence  - pearsonCor=0.10959124127283477\n",
      "pelvic_tilt  - pearsonCor=0.0033624581901098914\n",
      "lumbar_lordosis_angle  - pearsonCor=0.12456329375293664\n",
      "sacral_slope  - pearsonCor=0.1343922545654557\n",
      "pelvic_radius  - pearsonCor=0.018688993332864626\n",
      "degree_spondylolisthesis  - pearsonCor=0.06953673705796622\n",
      "class  - pearsonCor=1.0\n"
     ]
    }
   ],
   "source": [
    "from scipy.stats import pearsonr,spearmanr\n",
    "L=[]\n",
    "for i in df.columns:\n",
    "    pearsonCor,_=pearsonr(df[i],df['class'])\n",
    "    L.append(pearsonCor)\n",
    "    print(i,' - pearsonCor={}'.format(pearsonCor))"
   ]
  },
  {
   "cell_type": "code",
   "execution_count": 210,
   "id": "7de3dbd5",
   "metadata": {},
   "outputs": [
    {
     "data": {
      "text/plain": [
       "[1.0,\n",
       " 0.1343922545654557,\n",
       " 0.12456329375293664,\n",
       " 0.10959124127283477,\n",
       " 0.06953673705796622,\n",
       " 0.018688993332864626,\n",
       " 0.0033624581901098914]"
      ]
     },
     "execution_count": 210,
     "metadata": {},
     "output_type": "execute_result"
    }
   ],
   "source": [
    "L.sort(reverse=True)\n",
    "L"
   ]
  },
  {
   "cell_type": "code",
   "execution_count": 211,
   "id": "37fa5eac",
   "metadata": {},
   "outputs": [
    {
     "data": {
      "text/plain": [
       "pelvic_incidence            26.540\n",
       "pelvic_tilt                 11.890\n",
       "lumbar_lordosis_angle       26.000\n",
       "sacral_slope                20.145\n",
       "pelvic_radius               16.165\n",
       "degree_spondylolisthesis    47.800\n",
       "class                        3.000\n",
       "dtype: float64"
      ]
     },
     "execution_count": 211,
     "metadata": {},
     "output_type": "execute_result"
    }
   ],
   "source": [
    "Q1 = df.quantile(0.25)\n",
    "Q2 = df.quantile(0.5)\n",
    "Q3 = df.quantile(0.75)\n",
    "IQR = Q3 - Q1\n",
    "IQR"
   ]
  },
  {
   "cell_type": "code",
   "execution_count": 212,
   "id": "76f6da44",
   "metadata": {},
   "outputs": [
    {
     "name": "stdout",
     "output_type": "stream",
     "text": [
      "     pelvic_incidence  pelvic_tilt  lumbar_lordosis_angle  sacral_slope  \\\n",
      "1               False        False                  False         False   \n",
      "3               False        False                  False         False   \n",
      "4               False        False                  False         False   \n",
      "5               False        False                  False         False   \n",
      "6               False        False                  False         False   \n",
      "..                ...          ...                    ...           ...   \n",
      "515             False        False                  False         False   \n",
      "516             False         True                  False         False   \n",
      "517             False        False                  False         False   \n",
      "518             False        False                  False         False   \n",
      "519             False        False                  False         False   \n",
      "\n",
      "     pelvic_radius  degree_spondylolisthesis  class  \n",
      "1            False                     False  False  \n",
      "3            False                     False  False  \n",
      "4            False                     False  False  \n",
      "5            False                     False  False  \n",
      "6            False                     False  False  \n",
      "..             ...                       ...    ...  \n",
      "515          False                     False  False  \n",
      "516          False                     False  False  \n",
      "517          False                     False  False  \n",
      "518          False                     False  False  \n",
      "519          False                     False  False  \n",
      "\n",
      "[443 rows x 7 columns]\n"
     ]
    }
   ],
   "source": [
    "#show outlier data\n",
    "Upper = Q3 + (1.5 * IQR)\n",
    "lower = Q1 - (1.5 * IQR)\n",
    "print((df < (Q1 - 1.5 * IQR)) |(df > (Q3 + 1.5 * IQR)))"
   ]
  },
  {
   "cell_type": "code",
   "execution_count": 213,
   "id": "02bc1535",
   "metadata": {},
   "outputs": [],
   "source": [
    "from sklearn.preprocessing import scale,StandardScaler,normalize,MinMaxScaler\n",
    "from sklearn.preprocessing import LabelEncoder\n",
    "label_encoder= LabelEncoder()\n",
    "\n",
    "ardata=normalize(df,norm='l2',axis=0)\n",
    "ardata = StandardScaler().fit(ardata).transform(ardata)\n",
    "ardata=MinMaxScaler(feature_range=(0,1)).fit_transform(ardata)\n",
    "DFdata=pd.DataFrame(ardata,columns=df.columns)\n",
    "labels = DFdata['class']\n",
    "data=DFdata.drop('class',axis=1)\n",
    "labels = label_encoder.fit_transform(labels)"
   ]
  },
  {
   "cell_type": "code",
   "execution_count": 214,
   "id": "7ebedbd6",
   "metadata": {},
   "outputs": [
    {
     "data": {
      "text/plain": [
       "array([0., 0., 0., 0., 0., 0.])"
      ]
     },
     "execution_count": 214,
     "metadata": {},
     "output_type": "execute_result"
    }
   ],
   "source": [
    "from sklearn.linear_model import Lasso\n",
    "\n",
    "ls=Lasso(alpha=0.1,normalize=True)\n",
    "ls.fit(data,labels)\n",
    "\n",
    "z=ls.coef_\n",
    "z"
   ]
  },
  {
   "cell_type": "code",
   "execution_count": 215,
   "id": "263c91d9",
   "metadata": {},
   "outputs": [
    {
     "data": {
      "image/png": "[encoded data removed]",
      "text/plain": [
       "<Figure size 432x288 with 1 Axes>"
      ]
     },
     "metadata": {
      "needs_background": "light"
     },
     "output_type": "display_data"
    }
   ],
   "source": [
    "plt.plot(data.columns,z)\n",
    "plt.show()"
   ]
  },
  {
   "cell_type": "code",
   "execution_count": 216,
   "id": "0ed91cf6",
   "metadata": {},
   "outputs": [],
   "source": [
    "X = data  \n",
    "y = labels"
   ]
  },
  {
   "cell_type": "code",
   "execution_count": 217,
   "id": "d5bad679",
   "metadata": {},
   "outputs": [
    {
     "data": {
      "image/png": "[encoded data removed]",
      "text/plain": [
       "<Figure size 720x720 with 1 Axes>"
      ]
     },
     "metadata": {
      "needs_background": "light"
     },
     "output_type": "display_data"
    }
   ],
   "source": [
    "from sklearn.feature_selection import mutual_info_classif\n",
    "\n",
    "importance = mutual_info_classif(X,y)\n",
    "feat_importances=pd.Series(importance,df.columns[0:len(df.columns)-1])\n",
    "plt.figure(figsize=(10,10))\n",
    "feat_importances.plot(kind='barh',color='teal')\n",
    "plt.show()"
   ]
  },
  {
   "cell_type": "code",
   "execution_count": 218,
   "id": "f4264d28",
   "metadata": {},
   "outputs": [
    {
     "data": {
      "text/plain": [
       "pelvic_incidence            0.029172\n",
       "pelvic_tilt                 0.000000\n",
       "lumbar_lordosis_angle       0.027839\n",
       "sacral_slope                0.000000\n",
       "pelvic_radius               0.000000\n",
       "degree_spondylolisthesis    0.210998\n",
       "dtype: float64"
      ]
     },
     "execution_count": 218,
     "metadata": {},
     "output_type": "execute_result"
    }
   ],
   "source": [
    "feat_importances"
   ]
  },
  {
   "cell_type": "code",
   "execution_count": 219,
   "id": "2abe2c1a",
   "metadata": {},
   "outputs": [
    {
     "data": {
      "text/plain": [
       "[0.21099781697084152,\n",
       " 0.029172169401332937,\n",
       " 0.027839199269165782,\n",
       " 0.0,\n",
       " 0.0,\n",
       " 0.0]"
      ]
     },
     "execution_count": 219,
     "metadata": {},
     "output_type": "execute_result"
    }
   ],
   "source": [
    "L=list(feat_importances)\n",
    "L.sort(reverse=True)\n",
    "L"
   ]
  },
  {
   "cell_type": "code",
   "execution_count": 220,
   "id": "d8d64d90",
   "metadata": {},
   "outputs": [],
   "source": [
    "data=df[['degree_spondylolisthesis','pelvic_incidence','lumbar_lordosis_angle']]\n",
    "X=data"
   ]
  },
  {
   "cell_type": "code",
   "execution_count": 221,
   "id": "58455e49",
   "metadata": {},
   "outputs": [
    {
     "name": "stdout",
     "output_type": "stream",
     "text": [
      "(354, 3)\n",
      "(89, 3)\n",
      "(354,)\n",
      "(89,)\n"
     ]
    }
   ],
   "source": [
    "from sklearn.model_selection import train_test_split\n",
    "from sklearn.metrics import accuracy_score,mean_squared_error,confusion_matrix,classification_report\n",
    "\n",
    "X_train,X_test,y_train,y_test=train_test_split(X,y,test_size=0.20,random_state=0)\n",
    "print(X_train.shape)\n",
    "print(X_test.shape)\n",
    "print(y_train.shape)\n",
    "print(y_test.shape)"
   ]
  },
  {
   "cell_type": "code",
   "execution_count": 222,
   "id": "3e114fa8",
   "metadata": {},
   "outputs": [
    {
     "name": "stdout",
     "output_type": "stream",
     "text": [
      "(326, 3) (326,)\n"
     ]
    }
   ],
   "source": [
    "from sklearn.neighbors import LocalOutlierFactor\n",
    "# identify outliers in the training dataset\n",
    "lof = LocalOutlierFactor()\n",
    "yhat = lof.fit_predict(X_train)\n",
    "# select all rows that are not outliers\n",
    "mask = yhat != -1\n",
    "X_train, y_train = X_train[mask], y_train[mask]\n",
    "# summarize the shape of the updated training dataset\n",
    "print(X_train.shape, y_train.shape)"
   ]
  },
  {
   "cell_type": "code",
   "execution_count": 223,
   "id": "bab4c85c",
   "metadata": {},
   "outputs": [],
   "source": [
    "# Feature Scaling\n",
    "from sklearn.preprocessing import StandardScaler\n",
    "sc = StandardScaler()\n",
    "X_train = sc.fit_transform(X_train)\n",
    "X_test = sc.transform(X_test)"
   ]
  },
  {
   "cell_type": "code",
   "execution_count": 224,
   "id": "edcfeccb",
   "metadata": {},
   "outputs": [
    {
     "name": "stdout",
     "output_type": "stream",
     "text": [
      "ACC=0.6779141104294478 \n",
      " MAE  =2.3098159509202456 \n",
      " confusion_matrix=\n",
      "[[137   0   0   0]\n",
      " [ 24   8   0   0]\n",
      " [  0   0  50   0]\n",
      " [ 81   0   0  26]] \n",
      " classification_report=\n",
      "              precision    recall  f1-score   support\n",
      "\n",
      "           0       0.57      1.00      0.72       137\n",
      "           1       1.00      0.25      0.40        32\n",
      "           2       1.00      1.00      1.00        50\n",
      "           3       1.00      0.24      0.39       107\n",
      "\n",
      "    accuracy                           0.68       326\n",
      "   macro avg       0.89      0.62      0.63       326\n",
      "weighted avg       0.82      0.68      0.62       326\n",
      "\n"
     ]
    }
   ],
   "source": [
    "from sklearn.tree import DecisionTreeClassifier\n",
    "\n",
    "from sklearn.feature_selection import RFE\n",
    "\n",
    "X_train = pd.DataFrame(X_train)\n",
    "y_train = pd.DataFrame(y_train)\n",
    "\n",
    "#from sklearn.linear_model import LogisticRegression\n",
    "tree=DecisionTreeClassifier()\n",
    "rfe = RFE(tree,n_features_to_select=3, step=1) # running RFE\n",
    "rfe = rfe.fit(X_train, y_train)\n",
    "col = X_train.columns[rfe.support_]\n",
    "# Creating X_test dataframe with RFE selected variables\n",
    "X_train_rfe = X_train[col]\n",
    "tree.fit(X_train_rfe,y_train)\n",
    "y_predict=tree.predict(X_train_rfe)\n",
    "\n",
    "from sklearn.metrics import accuracy_score,mean_squared_error,confusion_matrix,classification_report\n",
    "\n",
    "ACC=accuracy_score(y_train,y_predict)\n",
    "MAE=mean_squared_error(y_train,y_predict)\n",
    "CM=confusion_matrix(y_train,y_predict)\n",
    "CR=classification_report(y_train,y_predict)\n",
    "print('ACC={} \\n MAE  ={} \\n confusion_matrix=\\n{} \\n classification_report=\\n{}'.format(ACC,MAE,CM,CR))"
   ]
  },
  {
   "cell_type": "code",
   "execution_count": 225,
   "id": "c11c55d0",
   "metadata": {},
   "outputs": [
    {
     "name": "stdout",
     "output_type": "stream",
     "text": [
      "ACC=0.48466257668711654 \n",
      " MAE  =3.374233128834356 \n",
      " confusion_matrix=\n",
      "[[79  2 17 39]\n",
      " [13  3 16  0]\n",
      " [11  3 36  0]\n",
      " [67  0  0 40]] \n",
      " classification_report=\n",
      "              precision    recall  f1-score   support\n",
      "\n",
      "           0       0.46      0.58      0.51       137\n",
      "           1       0.38      0.09      0.15        32\n",
      "           2       0.52      0.72      0.61        50\n",
      "           3       0.51      0.37      0.43       107\n",
      "\n",
      "    accuracy                           0.48       326\n",
      "   macro avg       0.47      0.44      0.42       326\n",
      "weighted avg       0.48      0.48      0.46       326\n",
      "\n"
     ]
    }
   ],
   "source": [
    "from sklearn.linear_model import LogisticRegression\n",
    "\n",
    "X_train = pd.DataFrame(X_train)\n",
    "y_train = pd.DataFrame(y_train)\n",
    "lr=LogisticRegression(C=0.1, solver='liblinear')\n",
    "rfe = RFE(lr,n_features_to_select=3, step=1) # running RFE\n",
    "rfe = rfe.fit(X_train, y_train)\n",
    "col = X_train.columns[rfe.support_]\n",
    "# Creating X_test dataframe with RFE selected variables\n",
    "X_train_rfe = X_train[col]\n",
    "lr.fit(X_train_rfe,y_train)\n",
    "y_predict=lr.predict(X_train_rfe)\n",
    "\n",
    "from sklearn.metrics import accuracy_score,mean_squared_error,confusion_matrix,classification_report\n",
    "\n",
    "ACC=accuracy_score(y_train,y_predict)\n",
    "MAE=mean_squared_error(y_train,y_predict)\n",
    "CM=confusion_matrix(y_train,y_predict)\n",
    "CR=classification_report(y_train,y_predict)\n",
    "print('ACC={} \\n MAE  ={} \\n confusion_matrix=\\n{} \\n classification_report=\\n{}'.format(ACC,MAE,CM,CR))"
   ]
  },
  {
   "cell_type": "code",
   "execution_count": 226,
   "id": "adfee85d",
   "metadata": {},
   "outputs": [
    {
     "name": "stdout",
     "output_type": "stream",
     "text": [
      "ACC=0.5030674846625767 \n",
      " MAE  =3.1901840490797544 \n",
      " confusion_matrix=\n",
      "[[108   4  11  14]\n",
      " [ 19   6   7   0]\n",
      " [ 15   4  31   0]\n",
      " [ 86   0   2  19]] \n",
      " classification_report=\n",
      "              precision    recall  f1-score   support\n",
      "\n",
      "           0       0.47      0.79      0.59       137\n",
      "           1       0.43      0.19      0.26        32\n",
      "           2       0.61      0.62      0.61        50\n",
      "           3       0.58      0.18      0.27       107\n",
      "\n",
      "    accuracy                           0.50       326\n",
      "   macro avg       0.52      0.44      0.43       326\n",
      "weighted avg       0.52      0.50      0.46       326\n",
      "\n"
     ]
    }
   ],
   "source": [
    "from sklearn.feature_selection import RFE\n",
    "from sklearn import svm\n",
    "\n",
    "X_train = pd.DataFrame(X_train)\n",
    "y_train = pd.DataFrame(y_train)\n",
    "\n",
    "nb = svm.SVC(kernel='rbf')\n",
    "nb.fit(X_train, y_train) \n",
    "\n",
    "rfe = RFE(nb,n_features_to_select=4, step=1) # running RFE\n",
    "rfe = rfe.fit(X_train, y_train)\n",
    "col = X_train.columns[rfe.support_]\n",
    "# Creating X_test dataframe with RFE selected variables\n",
    "X_train_rfe = X_train[col]\n",
    "nb.fit(X_train_rfe,y_train)\n",
    "y_predict=nb.predict(X_train_rfe)\n",
    "\n",
    "from sklearn.metrics import accuracy_score,mean_squared_error,confusion_matrix,classification_report\n",
    "\n",
    "ACC=accuracy_score(y_train,y_predict)\n",
    "MAE=mean_squared_error(y_train,y_predict)\n",
    "CM=confusion_matrix(y_train,y_predict)\n",
    "CR=classification_report(y_train,y_predict)\n",
    "print('ACC={} \\n MAE  ={} \\n confusion_matrix=\\n{} \\n classification_report=\\n{}'.format(ACC,MAE,CM,CR))"
   ]
  },
  {
   "cell_type": "code",
   "execution_count": 227,
   "id": "deef37a9",
   "metadata": {},
   "outputs": [
    {
     "name": "stdout",
     "output_type": "stream",
     "text": [
      "ACC=0.4754601226993865 \n",
      " MAE  =3.208588957055215 \n",
      " confusion_matrix=\n",
      "[[40 23  9 65]\n",
      " [ 1 26  5  0]\n",
      " [ 8 21 21  0]\n",
      " [38  0  1 68]] \n",
      " classification_report=\n",
      "              precision    recall  f1-score   support\n",
      "\n",
      "           0       0.46      0.29      0.36       137\n",
      "           1       0.37      0.81      0.51        32\n",
      "           2       0.58      0.42      0.49        50\n",
      "           3       0.51      0.64      0.57       107\n",
      "\n",
      "    accuracy                           0.48       326\n",
      "   macro avg       0.48      0.54      0.48       326\n",
      "weighted avg       0.49      0.48      0.46       326\n",
      "\n"
     ]
    }
   ],
   "source": [
    "from sklearn.feature_selection import RFE\n",
    "from sklearn.naive_bayes import GaussianNB\n",
    "\n",
    "X_train = pd.DataFrame(X_train)\n",
    "y_train = pd.DataFrame(y_train)\n",
    "\n",
    "classifier = GaussianNB() \n",
    "\n",
    "rfe = RFE(classifier,n_features_to_select=4, step=1) # running RFE\n",
    "rfe = rfe.fit(X_train, y_train)\n",
    "col = X_train.columns[rfe.support_]\n",
    "# Creating X_test dataframe with RFE selected variables\n",
    "X_train_rfe = X_train[col]\n",
    "classifier.fit(X_train_rfe,y_train)\n",
    "y_predict=classifier.predict(X_train_rfe)\n",
    "\n",
    "from sklearn.metrics import accuracy_score,mean_squared_error,confusion_matrix,classification_report\n",
    "\n",
    "ACC=accuracy_score(y_train,y_predict)\n",
    "MAE=mean_squared_error(y_train,y_predict)\n",
    "CM=confusion_matrix(y_train,y_predict)\n",
    "CR=classification_report(y_train,y_predict)\n",
    "print('ACC={} \\n MAE  ={} \\n confusion_matrix=\\n{} \\n classification_report=\\n{}'.format(ACC,MAE,CM,CR))"
   ]
  },
  {
   "cell_type": "code",
   "execution_count": 228,
   "id": "fa96ff01",
   "metadata": {},
   "outputs": [
    {
     "name": "stdout",
     "output_type": "stream",
     "text": [
      "neighbors : 1 , score : 0.15730337078651685\n",
      "neighbors : 2 , score : 0.29213483146067415\n",
      "neighbors : 3 , score : 0.19101123595505617\n",
      "neighbors : 4 , score : 0.29213483146067415\n",
      "neighbors : 5 , score : 0.21348314606741572\n",
      "neighbors : 6 , score : 0.29213483146067415\n",
      "neighbors : 7 , score : 0.2247191011235955\n",
      "neighbors : 8 , score : 0.3258426966292135\n",
      "neighbors : 9 , score : 0.30337078651685395\n",
      "neighbors : 10 , score : 0.3146067415730337\n",
      "neighbors : 11 , score : 0.33707865168539325\n",
      "neighbors : 12 , score : 0.25842696629213485\n",
      "neighbors : 13 , score : 0.30337078651685395\n",
      "neighbors : 14 , score : 0.3146067415730337\n",
      "neighbors : 15 , score : 0.3595505617977528\n",
      "neighbors : 16 , score : 0.3595505617977528\n",
      "neighbors : 17 , score : 0.3258426966292135\n",
      "neighbors : 18 , score : 0.33707865168539325\n",
      "neighbors : 19 , score : 0.3707865168539326\n",
      "neighbors : 20 , score : 0.3258426966292135\n",
      "neighbors : 21 , score : 0.3595505617977528\n",
      "neighbors : 22 , score : 0.3595505617977528\n",
      "neighbors : 23 , score : 0.34831460674157305\n",
      "neighbors : 24 , score : 0.3595505617977528\n",
      "neighbors : 25 , score : 0.33707865168539325\n",
      "neighbors : 26 , score : 0.29213483146067415\n",
      "neighbors : 27 , score : 0.39325842696629215\n",
      "neighbors : 28 , score : 0.39325842696629215\n",
      "neighbors : 29 , score : 0.4157303370786517\n",
      "neighbors : 30 , score : 0.34831460674157305\n",
      "neighbors : 31 , score : 0.4044943820224719\n",
      "neighbors : 32 , score : 0.3707865168539326\n",
      "neighbors : 33 , score : 0.4157303370786517\n",
      "neighbors : 34 , score : 0.4157303370786517\n",
      "neighbors : 35 , score : 0.4606741573033708\n",
      "neighbors : 36 , score : 0.39325842696629215\n",
      "neighbors : 37 , score : 0.4943820224719101\n",
      "neighbors : 38 , score : 0.4157303370786517\n",
      "neighbors : 39 , score : 0.4943820224719101\n",
      "neighbors : 40 , score : 0.4157303370786517\n",
      "neighbors : 41 , score : 0.48314606741573035\n",
      "neighbors : 42 , score : 0.4044943820224719\n",
      "neighbors : 43 , score : 0.4606741573033708\n",
      "neighbors : 44 , score : 0.38202247191011235\n",
      "neighbors : 45 , score : 0.42696629213483145\n",
      "neighbors : 46 , score : 0.39325842696629215\n",
      "neighbors : 47 , score : 0.42696629213483145\n",
      "neighbors : 48 , score : 0.4044943820224719\n",
      "neighbors : 49 , score : 0.42696629213483145\n",
      "neighbors : 50 , score : 0.4044943820224719\n",
      "neighbors : 51 , score : 0.4157303370786517\n",
      "neighbors : 52 , score : 0.4044943820224719\n",
      "neighbors : 53 , score : 0.42696629213483145\n",
      "neighbors : 54 , score : 0.42696629213483145\n",
      "neighbors : 55 , score : 0.4157303370786517\n",
      "neighbors : 56 , score : 0.43820224719101125\n",
      "neighbors : 57 , score : 0.449438202247191\n",
      "neighbors : 58 , score : 0.449438202247191\n",
      "neighbors : 59 , score : 0.43820224719101125\n",
      "neighbors : 60 , score : 0.449438202247191\n",
      "neighbors : 61 , score : 0.449438202247191\n",
      "neighbors : 62 , score : 0.449438202247191\n",
      "neighbors : 63 , score : 0.47191011235955055\n",
      "neighbors : 64 , score : 0.47191011235955055\n",
      "neighbors : 65 , score : 0.48314606741573035\n",
      "neighbors : 66 , score : 0.4943820224719101\n",
      "neighbors : 67 , score : 0.47191011235955055\n",
      "neighbors : 68 , score : 0.43820224719101125\n",
      "neighbors : 69 , score : 0.42696629213483145\n",
      "neighbors : 70 , score : 0.39325842696629215\n",
      "neighbors : 71 , score : 0.449438202247191\n",
      "neighbors : 72 , score : 0.4157303370786517\n",
      "neighbors : 73 , score : 0.4606741573033708\n",
      "neighbors : 74 , score : 0.4044943820224719\n",
      "neighbors : 75 , score : 0.43820224719101125\n",
      "neighbors : 76 , score : 0.42696629213483145\n",
      "neighbors : 77 , score : 0.43820224719101125\n",
      "neighbors : 78 , score : 0.38202247191011235\n",
      "neighbors : 79 , score : 0.43820224719101125\n",
      "neighbors : 80 , score : 0.3707865168539326\n",
      "neighbors : 81 , score : 0.42696629213483145\n",
      "neighbors : 82 , score : 0.4157303370786517\n",
      "neighbors : 83 , score : 0.48314606741573035\n",
      "neighbors : 84 , score : 0.4157303370786517\n",
      "neighbors : 85 , score : 0.43820224719101125\n",
      "neighbors : 86 , score : 0.43820224719101125\n",
      "neighbors : 87 , score : 0.449438202247191\n",
      "neighbors : 88 , score : 0.4157303370786517\n",
      "neighbors : 89 , score : 0.449438202247191\n",
      "neighbors : 90 , score : 0.42696629213483145\n",
      "neighbors : 91 , score : 0.42696629213483145\n",
      "neighbors : 92 , score : 0.449438202247191\n",
      "neighbors : 93 , score : 0.48314606741573035\n",
      "neighbors : 94 , score : 0.47191011235955055\n",
      "neighbors : 95 , score : 0.449438202247191\n",
      "neighbors : 96 , score : 0.4606741573033708\n",
      "neighbors : 97 , score : 0.4606741573033708\n",
      "neighbors : 98 , score : 0.43820224719101125\n",
      "neighbors : 99 , score : 0.48314606741573035\n"
     ]
    }
   ],
   "source": [
    "from sklearn.neighbors import KNeighborsClassifier\n",
    "for i in range(1,100):\n",
    "    model= KNeighborsClassifier(n_neighbors=i)\n",
    "    model.fit(X_train,y_train)\n",
    "    Result=model.score(X_test,y_test)\n",
    "    print(f\"neighbors : {i} , score : {Result}\")"
   ]
  },
  {
   "cell_type": "code",
   "execution_count": 229,
   "id": "812a17e5",
   "metadata": {},
   "outputs": [
    {
     "name": "stdout",
     "output_type": "stream",
     "text": [
      "The accuracy of KNN is:  0.48\n",
      "[[32  0  1  5]\n",
      " [ 4  0  3  0]\n",
      " [ 6  0  3  0]\n",
      " [27  0  0  8]]\n",
      "              precision    recall  f1-score   support\n",
      "\n",
      "           0       0.46      0.84      0.60        38\n",
      "           1       0.00      0.00      0.00         7\n",
      "           2       0.43      0.33      0.38         9\n",
      "           3       0.62      0.23      0.33        35\n",
      "\n",
      "    accuracy                           0.48        89\n",
      "   macro avg       0.38      0.35      0.33        89\n",
      "weighted avg       0.48      0.48      0.42        89\n",
      "\n"
     ]
    },
    {
     "data": {
      "text/plain": [
       "<AxesSubplot:>"
      ]
     },
     "execution_count": 229,
     "metadata": {},
     "output_type": "execute_result"
    },
    {
     "data": {
      "image/png": "[encoded data removed]",
      "text/plain": [
       "<Figure size 432x288 with 2 Axes>"
      ]
     },
     "metadata": {
      "needs_background": "light"
     },
     "output_type": "display_data"
    }
   ],
   "source": [
    "# KNN Classifier\n",
    "from sklearn.neighbors import KNeighborsClassifier\n",
    "\n",
    "knn=KNeighborsClassifier(n_neighbors=99)\n",
    "knn.fit(X_train,y_train)\n",
    "y_pred=knn.predict(X_test)\n",
    "#print('y_predict={} \\n y_test  ={}'.format(y_pred,y_test))\n",
    "ac = accuracy_score(y_test,y_pred)\n",
    "print('The accuracy of KNN is: ', round(ac,2))\n",
    "cm = confusion_matrix(y_test, y_pred)\n",
    "print(cm)\n",
    "print(classification_report(y_test,y_pred))\n",
    "sns.heatmap(cm,annot=True)"
   ]
  },
  {
   "cell_type": "code",
   "execution_count": 230,
   "id": "8d3ea438",
   "metadata": {},
   "outputs": [
    {
     "name": "stdout",
     "output_type": "stream",
     "text": [
      "The accuracy of Decision Tree Classification is:  0.42 i= 1\n",
      "The accuracy of Decision Tree Classification is:  0.43 i= 2\n",
      "The accuracy of Decision Tree Classification is:  0.46 i= 3\n",
      "The accuracy of Decision Tree Classification is:  0.44 i= 4\n",
      "The accuracy of Decision Tree Classification is:  0.42 i= 5\n",
      "The accuracy of Decision Tree Classification is:  0.37 i= 6\n",
      "The accuracy of Decision Tree Classification is:  0.35 i= 7\n",
      "The accuracy of Decision Tree Classification is:  0.35 i= 8\n",
      "The accuracy of Decision Tree Classification is:  0.34 i= 9\n",
      "The accuracy of Decision Tree Classification is:  0.27 i= 10\n",
      "The accuracy of Decision Tree Classification is:  0.26 i= 11\n",
      "The accuracy of Decision Tree Classification is:  0.24 i= 12\n",
      "The accuracy of Decision Tree Classification is:  0.22 i= 13\n",
      "The accuracy of Decision Tree Classification is:  0.21 i= 14\n",
      "The accuracy of Decision Tree Classification is:  0.19 i= 15\n",
      "The accuracy of Decision Tree Classification is:  0.19 i= 16\n",
      "The accuracy of Decision Tree Classification is:  0.19 i= 17\n",
      "The accuracy of Decision Tree Classification is:  0.18 i= 18\n",
      "The accuracy of Decision Tree Classification is:  0.18 i= 19\n"
     ]
    }
   ],
   "source": [
    "from sklearn.tree import DecisionTreeClassifier\n",
    "\n",
    "for i in range(1,20):\n",
    "    classifier = DecisionTreeClassifier(criterion = 'entropy', max_depth = i, random_state=4)\n",
    "    classifier.fit(X_train, y_train)\n",
    "    y_pred = classifier.predict(X_test)\n",
    "    ac=metrics.accuracy_score(y_test, y_pred)\n",
    "    print('The accuracy of Decision Tree Classification is: ', round(ac,2),'i=',i)"
   ]
  },
  {
   "cell_type": "code",
   "execution_count": 235,
   "id": "67641242",
   "metadata": {},
   "outputs": [
    {
     "name": "stdout",
     "output_type": "stream",
     "text": [
      "The accuracy of Decision Tree Classification is:  0.46\n",
      "[[ 2  8  2 26]\n",
      " [ 0  6  1  0]\n",
      " [ 0  3  6  0]\n",
      " [ 7  0  1 27]]\n",
      "              precision    recall  f1-score   support\n",
      "\n",
      "           0       0.22      0.05      0.09        38\n",
      "           1       0.35      0.86      0.50         7\n",
      "           2       0.60      0.67      0.63         9\n",
      "           3       0.51      0.77      0.61        35\n",
      "\n",
      "    accuracy                           0.46        89\n",
      "   macro avg       0.42      0.59      0.46        89\n",
      "weighted avg       0.38      0.46      0.38        89\n",
      "\n"
     ]
    },
    {
     "data": {
      "image/png": "[encoded data removed]",
      "text/plain": [
       "<Figure size 432x288 with 2 Axes>"
      ]
     },
     "metadata": {
      "needs_background": "light"
     },
     "output_type": "display_data"
    }
   ],
   "source": [
    "# Decision Tree Classifier\n",
    "from sklearn.tree import DecisionTreeClassifier\n",
    "classifier = DecisionTreeClassifier(criterion = 'entropy', max_depth = 3)\n",
    "classifier.fit(X_train, y_train)\n",
    "y_pred = classifier.predict(X_test)\n",
    "ac=metrics.accuracy_score(y_test, y_pred)\n",
    "print('The accuracy of Decision Tree Classification is: ', round(ac,2))\n",
    "cm = confusion_matrix(y_test, y_pred)\n",
    "print(cm)\n",
    "sns.heatmap(cm,annot=True)\n",
    "print(classification_report(y_test,y_pred))"
   ]
  },
  {
   "cell_type": "code",
   "execution_count": 232,
   "id": "d4bb0cd7",
   "metadata": {},
   "outputs": [
    {
     "name": "stdout",
     "output_type": "stream",
     "text": [
      "The accuracy of Logistic Regression is:  0.52\n",
      "[[24  2  2 10]\n",
      " [ 3  1  3  0]\n",
      " [ 1  0  8  0]\n",
      " [21  0  1 13]]\n",
      "              precision    recall  f1-score   support\n",
      "\n",
      "           0       0.49      0.63      0.55        38\n",
      "           1       0.33      0.14      0.20         7\n",
      "           2       0.57      0.89      0.70         9\n",
      "           3       0.57      0.37      0.45        35\n",
      "\n",
      "    accuracy                           0.52        89\n",
      "   macro avg       0.49      0.51      0.47        89\n",
      "weighted avg       0.52      0.52      0.50        89\n",
      "\n"
     ]
    },
    {
     "data": {
      "image/png": "[encoded data removed]",
      "text/plain": [
       "<Figure size 432x288 with 2 Axes>"
      ]
     },
     "metadata": {
      "needs_background": "light"
     },
     "output_type": "display_data"
    }
   ],
   "source": [
    "# Classification LogisticRegression\n",
    "from sklearn.linear_model import LogisticRegression\n",
    "from sklearn.metrics import confusion_matrix\n",
    "LR = LogisticRegression(C=0.9, solver='liblinear').fit(X_train,y_train)\n",
    "y_pred = LR.predict(X_test)\n",
    "ac=metrics.accuracy_score(y_test, y_pred)\n",
    "print('The accuracy of Logistic Regression is: ', round(ac,2))\n",
    "cm = confusion_matrix(y_test, y_pred)\n",
    "print(cm)\n",
    "sns.heatmap(cm,annot=True)\n",
    "print(classification_report(y_test,y_pred))"
   ]
  },
  {
   "cell_type": "code",
   "execution_count": 233,
   "id": "7e08186c",
   "metadata": {},
   "outputs": [
    {
     "name": "stdout",
     "output_type": "stream",
     "text": [
      "Accuracy of the SVM Model:  0.4\n",
      "[[27  2  2  7]\n",
      " [ 4  0  3  0]\n",
      " [ 3  0  5  1]\n",
      " [30  0  1  4]]\n",
      "              precision    recall  f1-score   support\n",
      "\n",
      "           0       0.42      0.71      0.53        38\n",
      "           1       0.00      0.00      0.00         7\n",
      "           2       0.45      0.56      0.50         9\n",
      "           3       0.33      0.11      0.17        35\n",
      "\n",
      "    accuracy                           0.40        89\n",
      "   macro avg       0.30      0.35      0.30        89\n",
      "weighted avg       0.36      0.40      0.34        89\n",
      "\n"
     ]
    },
    {
     "data": {
      "image/png": "[encoded data removed]",
      "text/plain": [
       "<Figure size 432x288 with 2 Axes>"
      ]
     },
     "metadata": {
      "needs_background": "light"
     },
     "output_type": "display_data"
    }
   ],
   "source": [
    "# Classification SVM\n",
    "from sklearn import svm\n",
    "clf = svm.SVC(kernel='rbf')\n",
    "clf.fit(X_train, y_train) \n",
    "y_pred = clf.predict(X_test)\n",
    "accuracy = accuracy_score(y_test, y_pred)\n",
    "print(\"Accuracy of the SVM Model: \",round(accuracy,2))\n",
    "cm = confusion_matrix(y_test, y_pred)\n",
    "print(cm)\n",
    "sns.heatmap(cm,annot=True)\n",
    "print(classification_report(y_test,y_pred))"
   ]
  },
  {
   "cell_type": "code",
   "execution_count": 234,
   "id": "b1ddcb07",
   "metadata": {},
   "outputs": [
    {
     "name": "stdout",
     "output_type": "stream",
     "text": [
      "The accuracy of Naive bayes is:  0.4157303370786517\n",
      "[[10  7  1 20]\n",
      " [ 0  4  3  0]\n",
      " [ 3  1  5  0]\n",
      " [16  0  1 18]]\n",
      "              precision    recall  f1-score   support\n",
      "\n",
      "           0       0.34      0.26      0.30        38\n",
      "           1       0.33      0.57      0.42         7\n",
      "           2       0.50      0.56      0.53         9\n",
      "           3       0.47      0.51      0.49        35\n",
      "\n",
      "    accuracy                           0.42        89\n",
      "   macro avg       0.41      0.48      0.43        89\n",
      "weighted avg       0.41      0.42      0.41        89\n",
      "\n"
     ]
    },
    {
     "data": {
      "image/png": "[encoded data removed]",
      "text/plain": [
       "<Figure size 432x288 with 2 Axes>"
      ]
     },
     "metadata": {
      "needs_background": "light"
     },
     "output_type": "display_data"
    }
   ],
   "source": [
    "# Naive Bayes Classifier\n",
    "from sklearn.naive_bayes import GaussianNB\n",
    "classifier = GaussianNB()\n",
    "classifier.fit(X_train, y_train)\n",
    "y_pred = classifier.predict(X_test)\n",
    "ac = accuracy_score(y_test,y_pred)\n",
    "print('The accuracy of Naive bayes is: ', ac)\n",
    "cm = confusion_matrix(y_test, y_pred)\n",
    "print(cm)\n",
    "sns.heatmap(cm,annot=True)\n",
    "print(classification_report(y_test,y_pred))"
   ]
  },
  {
   "cell_type": "code",
   "execution_count": null,
   "id": "773c7fe0",
   "metadata": {},
   "outputs": [],
   "source": []
  }
 ],
 "metadata": {
  "kernelspec": {
   "display_name": "Python 3 (ipykernel)",
   "language": "python",
   "name": "python3"
  },
  "language_info": {
   "codemirror_mode": {
    "name": "ipython",
    "version": 3
   },
   "file_extension": ".py",
   "mimetype": "text/x-python",
   "name": "python",
   "nbconvert_exporter": "python",
   "pygments_lexer": "ipython3",
   "version": "3.11.4"
  }
 },
 "nbformat": 4,
 "nbformat_minor": 5
}
