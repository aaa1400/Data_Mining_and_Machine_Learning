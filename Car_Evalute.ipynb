{
 "cells": [
  {
   "cell_type": "code",
   "execution_count": 31,
   "id": "2c329c54",
   "metadata": {},
   "outputs": [],
   "source": [
    "import matplotlib.pyplot as plt\n",
    "import numpy as np\n",
    "import pandas as pd\n",
    "import seaborn as sns\n",
    "import sklearn\n",
    "from sklearn import metrics\n",
    "from sklearn.preprocessing import LabelEncoder\n",
    "import warnings\n",
    "warnings.filterwarnings('ignore')"
   ]
  },
  {
   "cell_type": "code",
   "execution_count": 32,
   "id": "687a71d1",
   "metadata": {},
   "outputs": [],
   "source": [
    "df=pd.read_excel(\"car.xlsx\")"
   ]
  },
  {
   "cell_type": "code",
   "execution_count": 33,
   "id": "b7a25bca",
   "metadata": {},
   "outputs": [
    {
     "data": {
      "text/html": [
       "<div>\n",
       "<style scoped>\n",
       "    .dataframe tbody tr th:only-of-type {\n",
       "        vertical-align: middle;\n",
       "    }\n",
       "\n",
       "    .dataframe tbody tr th {\n",
       "        vertical-align: top;\n",
       "    }\n",
       "\n",
       "    .dataframe thead th {\n",
       "        text-align: right;\n",
       "    }\n",
       "</style>\n",
       "<table border=\"1\" class=\"dataframe\">\n",
       "  <thead>\n",
       "    <tr style=\"text-align: right;\">\n",
       "      <th></th>\n",
       "      <th>buying</th>\n",
       "      <th>maint</th>\n",
       "      <th>doors</th>\n",
       "      <th>persons</th>\n",
       "      <th>lug_boot</th>\n",
       "      <th>safety</th>\n",
       "      <th>class</th>\n",
       "    </tr>\n",
       "  </thead>\n",
       "  <tbody>\n",
       "    <tr>\n",
       "      <th>0</th>\n",
       "      <td>vhigh</td>\n",
       "      <td>vhigh</td>\n",
       "      <td>2</td>\n",
       "      <td>2</td>\n",
       "      <td>small</td>\n",
       "      <td>low</td>\n",
       "      <td>unacc</td>\n",
       "    </tr>\n",
       "    <tr>\n",
       "      <th>1</th>\n",
       "      <td>vhigh</td>\n",
       "      <td>vhigh</td>\n",
       "      <td>2</td>\n",
       "      <td>2</td>\n",
       "      <td>small</td>\n",
       "      <td>med</td>\n",
       "      <td>unacc</td>\n",
       "    </tr>\n",
       "    <tr>\n",
       "      <th>2</th>\n",
       "      <td>vhigh</td>\n",
       "      <td>vhigh</td>\n",
       "      <td>2</td>\n",
       "      <td>2</td>\n",
       "      <td>small</td>\n",
       "      <td>high</td>\n",
       "      <td>unacc</td>\n",
       "    </tr>\n",
       "    <tr>\n",
       "      <th>3</th>\n",
       "      <td>vhigh</td>\n",
       "      <td>vhigh</td>\n",
       "      <td>2</td>\n",
       "      <td>2</td>\n",
       "      <td>med</td>\n",
       "      <td>low</td>\n",
       "      <td>unacc</td>\n",
       "    </tr>\n",
       "    <tr>\n",
       "      <th>4</th>\n",
       "      <td>vhigh</td>\n",
       "      <td>vhigh</td>\n",
       "      <td>2</td>\n",
       "      <td>2</td>\n",
       "      <td>med</td>\n",
       "      <td>med</td>\n",
       "      <td>unacc</td>\n",
       "    </tr>\n",
       "    <tr>\n",
       "      <th>5</th>\n",
       "      <td>vhigh</td>\n",
       "      <td>vhigh</td>\n",
       "      <td>2</td>\n",
       "      <td>2</td>\n",
       "      <td>med</td>\n",
       "      <td>high</td>\n",
       "      <td>unacc</td>\n",
       "    </tr>\n",
       "    <tr>\n",
       "      <th>6</th>\n",
       "      <td>vhigh</td>\n",
       "      <td>vhigh</td>\n",
       "      <td>2</td>\n",
       "      <td>2</td>\n",
       "      <td>big</td>\n",
       "      <td>low</td>\n",
       "      <td>unacc</td>\n",
       "    </tr>\n",
       "    <tr>\n",
       "      <th>7</th>\n",
       "      <td>vhigh</td>\n",
       "      <td>vhigh</td>\n",
       "      <td>2</td>\n",
       "      <td>2</td>\n",
       "      <td>big</td>\n",
       "      <td>med</td>\n",
       "      <td>unacc</td>\n",
       "    </tr>\n",
       "    <tr>\n",
       "      <th>8</th>\n",
       "      <td>vhigh</td>\n",
       "      <td>vhigh</td>\n",
       "      <td>2</td>\n",
       "      <td>2</td>\n",
       "      <td>big</td>\n",
       "      <td>high</td>\n",
       "      <td>unacc</td>\n",
       "    </tr>\n",
       "    <tr>\n",
       "      <th>9</th>\n",
       "      <td>vhigh</td>\n",
       "      <td>vhigh</td>\n",
       "      <td>2</td>\n",
       "      <td>4</td>\n",
       "      <td>small</td>\n",
       "      <td>low</td>\n",
       "      <td>unacc</td>\n",
       "    </tr>\n",
       "  </tbody>\n",
       "</table>\n",
       "</div>"
      ],
      "text/plain": [
       "  buying  maint doors persons lug_boot safety  class\n",
       "0  vhigh  vhigh     2       2    small    low  unacc\n",
       "1  vhigh  vhigh     2       2    small    med  unacc\n",
       "2  vhigh  vhigh     2       2    small   high  unacc\n",
       "3  vhigh  vhigh     2       2      med    low  unacc\n",
       "4  vhigh  vhigh     2       2      med    med  unacc\n",
       "5  vhigh  vhigh     2       2      med   high  unacc\n",
       "6  vhigh  vhigh     2       2      big    low  unacc\n",
       "7  vhigh  vhigh     2       2      big    med  unacc\n",
       "8  vhigh  vhigh     2       2      big   high  unacc\n",
       "9  vhigh  vhigh     2       4    small    low  unacc"
      ]
     },
     "execution_count": 33,
     "metadata": {},
     "output_type": "execute_result"
    }
   ],
   "source": [
    "df.head(10)"
   ]
  },
  {
   "cell_type": "code",
   "execution_count": 34,
   "id": "8a12d6c2",
   "metadata": {},
   "outputs": [
    {
     "data": {
      "text/plain": [
       "(1728, 7)"
      ]
     },
     "execution_count": 34,
     "metadata": {},
     "output_type": "execute_result"
    }
   ],
   "source": [
    "df.shape"
   ]
  },
  {
   "cell_type": "code",
   "execution_count": 35,
   "id": "6f816db7",
   "metadata": {},
   "outputs": [],
   "source": [
    "df=df.drop_duplicates()"
   ]
  },
  {
   "cell_type": "code",
   "execution_count": 36,
   "id": "eda7668b",
   "metadata": {},
   "outputs": [
    {
     "data": {
      "text/plain": [
       "(1728, 7)"
      ]
     },
     "execution_count": 36,
     "metadata": {},
     "output_type": "execute_result"
    }
   ],
   "source": [
    "df.shape"
   ]
  },
  {
   "cell_type": "code",
   "execution_count": 37,
   "id": "8014c292",
   "metadata": {},
   "outputs": [
    {
     "data": {
      "text/plain": [
       "buying      object\n",
       "maint       object\n",
       "doors       object\n",
       "persons     object\n",
       "lug_boot    object\n",
       "safety      object\n",
       "class       object\n",
       "dtype: object"
      ]
     },
     "execution_count": 37,
     "metadata": {},
     "output_type": "execute_result"
    }
   ],
   "source": [
    "df.dtypes"
   ]
  },
  {
   "cell_type": "code",
   "execution_count": 38,
   "id": "fd2baad6",
   "metadata": {},
   "outputs": [
    {
     "name": "stdout",
     "output_type": "stream",
     "text": [
      "<class 'pandas.core.frame.DataFrame'>\n",
      "Int64Index: 1728 entries, 0 to 1727\n",
      "Data columns (total 7 columns):\n",
      " #   Column    Non-Null Count  Dtype \n",
      "---  ------    --------------  ----- \n",
      " 0   buying    1728 non-null   object\n",
      " 1   maint     1728 non-null   object\n",
      " 2   doors     1728 non-null   object\n",
      " 3   persons   1728 non-null   object\n",
      " 4   lug_boot  1728 non-null   object\n",
      " 5   safety    1728 non-null   object\n",
      " 6   class     1728 non-null   object\n",
      "dtypes: object(7)\n",
      "memory usage: 108.0+ KB\n"
     ]
    }
   ],
   "source": [
    "df.info()"
   ]
  },
  {
   "cell_type": "code",
   "execution_count": 39,
   "id": "257cecd8",
   "metadata": {},
   "outputs": [
    {
     "data": {
      "text/plain": [
       "Index(['buying', 'maint', 'doors', 'persons', 'lug_boot', 'safety', 'class'], dtype='object')"
      ]
     },
     "execution_count": 39,
     "metadata": {},
     "output_type": "execute_result"
    }
   ],
   "source": [
    "df.columns"
   ]
  },
  {
   "cell_type": "code",
   "execution_count": 40,
   "id": "5bc2cdeb",
   "metadata": {},
   "outputs": [
    {
     "data": {
      "text/plain": [
       "buying      4\n",
       "maint       4\n",
       "doors       4\n",
       "persons     3\n",
       "lug_boot    3\n",
       "safety      3\n",
       "class       4\n",
       "dtype: int64"
      ]
     },
     "execution_count": 40,
     "metadata": {},
     "output_type": "execute_result"
    }
   ],
   "source": [
    "df.nunique()"
   ]
  },
  {
   "cell_type": "code",
   "execution_count": 41,
   "id": "d6115cff",
   "metadata": {},
   "outputs": [
    {
     "data": {
      "text/plain": [
       "Int64Index([   0,    1,    2,    3,    4,    5,    6,    7,    8,    9,\n",
       "            ...\n",
       "            1718, 1719, 1720, 1721, 1722, 1723, 1724, 1725, 1726, 1727],\n",
       "           dtype='int64', length=1728)"
      ]
     },
     "execution_count": 41,
     "metadata": {},
     "output_type": "execute_result"
    }
   ],
   "source": [
    "df.index"
   ]
  },
  {
   "cell_type": "code",
   "execution_count": 42,
   "id": "248b5efa",
   "metadata": {},
   "outputs": [
    {
     "data": {
      "text/plain": [
       "buying      0\n",
       "maint       0\n",
       "doors       0\n",
       "persons     0\n",
       "lug_boot    0\n",
       "safety      0\n",
       "class       0\n",
       "dtype: int64"
      ]
     },
     "execution_count": 42,
     "metadata": {},
     "output_type": "execute_result"
    }
   ],
   "source": [
    "df.isnull().sum()"
   ]
  },
  {
   "cell_type": "code",
   "execution_count": 43,
   "id": "2f9cd43c",
   "metadata": {},
   "outputs": [
    {
     "data": {
      "text/html": [
       "<div>\n",
       "<style scoped>\n",
       "    .dataframe tbody tr th:only-of-type {\n",
       "        vertical-align: middle;\n",
       "    }\n",
       "\n",
       "    .dataframe tbody tr th {\n",
       "        vertical-align: top;\n",
       "    }\n",
       "\n",
       "    .dataframe thead th {\n",
       "        text-align: right;\n",
       "    }\n",
       "</style>\n",
       "<table border=\"1\" class=\"dataframe\">\n",
       "  <thead>\n",
       "    <tr style=\"text-align: right;\">\n",
       "      <th></th>\n",
       "      <th>buying</th>\n",
       "      <th>maint</th>\n",
       "      <th>doors</th>\n",
       "      <th>persons</th>\n",
       "      <th>lug_boot</th>\n",
       "      <th>safety</th>\n",
       "      <th>class</th>\n",
       "    </tr>\n",
       "  </thead>\n",
       "  <tbody>\n",
       "    <tr>\n",
       "      <th>count</th>\n",
       "      <td>1728</td>\n",
       "      <td>1728</td>\n",
       "      <td>1728</td>\n",
       "      <td>1728</td>\n",
       "      <td>1728</td>\n",
       "      <td>1728</td>\n",
       "      <td>1728</td>\n",
       "    </tr>\n",
       "    <tr>\n",
       "      <th>unique</th>\n",
       "      <td>4</td>\n",
       "      <td>4</td>\n",
       "      <td>4</td>\n",
       "      <td>3</td>\n",
       "      <td>3</td>\n",
       "      <td>3</td>\n",
       "      <td>4</td>\n",
       "    </tr>\n",
       "    <tr>\n",
       "      <th>top</th>\n",
       "      <td>vhigh</td>\n",
       "      <td>vhigh</td>\n",
       "      <td>2</td>\n",
       "      <td>2</td>\n",
       "      <td>small</td>\n",
       "      <td>low</td>\n",
       "      <td>unacc</td>\n",
       "    </tr>\n",
       "    <tr>\n",
       "      <th>freq</th>\n",
       "      <td>432</td>\n",
       "      <td>432</td>\n",
       "      <td>432</td>\n",
       "      <td>576</td>\n",
       "      <td>576</td>\n",
       "      <td>576</td>\n",
       "      <td>1210</td>\n",
       "    </tr>\n",
       "  </tbody>\n",
       "</table>\n",
       "</div>"
      ],
      "text/plain": [
       "       buying  maint  doors  persons lug_boot safety  class\n",
       "count    1728   1728   1728     1728     1728   1728   1728\n",
       "unique      4      4      4        3        3      3      4\n",
       "top     vhigh  vhigh      2        2    small    low  unacc\n",
       "freq      432    432    432      576      576    576   1210"
      ]
     },
     "execution_count": 43,
     "metadata": {},
     "output_type": "execute_result"
    }
   ],
   "source": [
    "df.describe()"
   ]
  },
  {
   "cell_type": "code",
   "execution_count": 44,
   "id": "eb744979",
   "metadata": {},
   "outputs": [
    {
     "data": {
      "text/plain": [
       "array(['vhigh', 'high', 'med', 'low'], dtype=object)"
      ]
     },
     "execution_count": 44,
     "metadata": {},
     "output_type": "execute_result"
    }
   ],
   "source": [
    "df['buying'].unique()"
   ]
  },
  {
   "cell_type": "code",
   "execution_count": 45,
   "id": "380c1c47",
   "metadata": {},
   "outputs": [
    {
     "data": {
      "text/plain": [
       "array([3, 2, 1, 0])"
      ]
     },
     "execution_count": 45,
     "metadata": {},
     "output_type": "execute_result"
    }
   ],
   "source": [
    "df['buying'].replace('low',0,inplace=True)\n",
    "df['buying'].replace('med',1,inplace=True)\n",
    "df['buying'].replace('high',2,inplace=True)\n",
    "df['buying'].replace('vhigh',3,inplace=True)\n",
    "df['buying']=df['buying'].astype(int)\n",
    "df['buying'].unique()"
   ]
  },
  {
   "cell_type": "code",
   "execution_count": 46,
   "id": "92a38535",
   "metadata": {},
   "outputs": [
    {
     "data": {
      "text/plain": [
       "array([3, 2, 1, 0])"
      ]
     },
     "execution_count": 46,
     "metadata": {},
     "output_type": "execute_result"
    }
   ],
   "source": [
    "df['buying'].unique()"
   ]
  },
  {
   "cell_type": "code",
   "execution_count": 47,
   "id": "decf18d2",
   "metadata": {},
   "outputs": [
    {
     "data": {
      "text/plain": [
       "array(['vhigh', 'high', 'med', 'low'], dtype=object)"
      ]
     },
     "execution_count": 47,
     "metadata": {},
     "output_type": "execute_result"
    }
   ],
   "source": [
    "df['maint'].unique()"
   ]
  },
  {
   "cell_type": "code",
   "execution_count": 48,
   "id": "d3e3f6d9",
   "metadata": {},
   "outputs": [
    {
     "data": {
      "text/plain": [
       "array([3, 2, 1, 0])"
      ]
     },
     "execution_count": 48,
     "metadata": {},
     "output_type": "execute_result"
    }
   ],
   "source": [
    "df['maint'].replace('low',0,inplace=True)\n",
    "df['maint'].replace('med',1,inplace=True)\n",
    "df['maint'].replace('high',2,inplace=True)\n",
    "df['maint'].replace('vhigh',3,inplace=True)\n",
    "df['maint']=df['maint'].astype(int)\n",
    "df['maint'].unique()"
   ]
  },
  {
   "cell_type": "code",
   "execution_count": 49,
   "id": "fdc2c230",
   "metadata": {},
   "outputs": [
    {
     "data": {
      "text/plain": [
       "array([2, 3, 4, '5more'], dtype=object)"
      ]
     },
     "execution_count": 49,
     "metadata": {},
     "output_type": "execute_result"
    }
   ],
   "source": [
    "df['doors'].unique()"
   ]
  },
  {
   "cell_type": "code",
   "execution_count": 50,
   "id": "701c80dd",
   "metadata": {},
   "outputs": [
    {
     "data": {
      "text/plain": [
       "array([2, 3, 4, 5])"
      ]
     },
     "execution_count": 50,
     "metadata": {},
     "output_type": "execute_result"
    }
   ],
   "source": [
    "df['doors'].replace('5more',5,inplace=True)\n",
    "df['doors']=df['doors'].astype(int)\n",
    "df['doors'].unique()"
   ]
  },
  {
   "cell_type": "code",
   "execution_count": 51,
   "id": "f42902b7",
   "metadata": {},
   "outputs": [
    {
     "data": {
      "text/plain": [
       "array([2, 4, 'more'], dtype=object)"
      ]
     },
     "execution_count": 51,
     "metadata": {},
     "output_type": "execute_result"
    }
   ],
   "source": [
    "df['persons'].unique()"
   ]
  },
  {
   "cell_type": "code",
   "execution_count": 52,
   "id": "8a9d02b7",
   "metadata": {},
   "outputs": [
    {
     "data": {
      "text/plain": [
       "array([2, 4, 5])"
      ]
     },
     "execution_count": 52,
     "metadata": {},
     "output_type": "execute_result"
    }
   ],
   "source": [
    "df['persons'].replace('more',5,inplace=True)\n",
    "df['persons']=df['persons'].astype(int)\n",
    "df['persons'].unique()"
   ]
  },
  {
   "cell_type": "code",
   "execution_count": 53,
   "id": "fc118e3f",
   "metadata": {},
   "outputs": [
    {
     "data": {
      "text/plain": [
       "array(['small', 'med', 'big'], dtype=object)"
      ]
     },
     "execution_count": 53,
     "metadata": {},
     "output_type": "execute_result"
    }
   ],
   "source": [
    "df['lug_boot'].unique()"
   ]
  },
  {
   "cell_type": "code",
   "execution_count": 54,
   "id": "8aa5c751",
   "metadata": {},
   "outputs": [
    {
     "data": {
      "text/plain": [
       "array([0, 1, 2])"
      ]
     },
     "execution_count": 54,
     "metadata": {},
     "output_type": "execute_result"
    }
   ],
   "source": [
    "df['lug_boot'].replace('small',0,inplace=True)\n",
    "df['lug_boot'].replace('med',1,inplace=True)\n",
    "df['lug_boot'].replace('big',2,inplace=True)\n",
    "df['lug_boot']=df['lug_boot'].astype(int)\n",
    "df['lug_boot'].unique()"
   ]
  },
  {
   "cell_type": "code",
   "execution_count": 55,
   "id": "8f4e006c",
   "metadata": {},
   "outputs": [
    {
     "data": {
      "text/plain": [
       "array(['low', 'med', 'high'], dtype=object)"
      ]
     },
     "execution_count": 55,
     "metadata": {},
     "output_type": "execute_result"
    }
   ],
   "source": [
    "df['safety'].unique()"
   ]
  },
  {
   "cell_type": "code",
   "execution_count": 56,
   "id": "0ad0fbbf",
   "metadata": {},
   "outputs": [
    {
     "data": {
      "text/plain": [
       "array([0, 1, 2])"
      ]
     },
     "execution_count": 56,
     "metadata": {},
     "output_type": "execute_result"
    }
   ],
   "source": [
    "df['safety'].replace('low',0,inplace=True)\n",
    "df['safety'].replace('med',1,inplace=True)\n",
    "df['safety'].replace('high',2,inplace=True)\n",
    "df['safety']=df['safety'].astype(int)\n",
    "df['safety'].unique()"
   ]
  },
  {
   "cell_type": "code",
   "execution_count": 57,
   "id": "583daff2",
   "metadata": {},
   "outputs": [
    {
     "data": {
      "text/plain": [
       "array(['unacc', 'acc', 'vgood', 'good'], dtype=object)"
      ]
     },
     "execution_count": 57,
     "metadata": {},
     "output_type": "execute_result"
    }
   ],
   "source": [
    "df['class'].unique()"
   ]
  },
  {
   "cell_type": "code",
   "execution_count": 58,
   "id": "13234894",
   "metadata": {},
   "outputs": [],
   "source": [
    "class_ = df['class']\n",
    "classs = class_.copy()\n",
    "le = LabelEncoder()\n",
    "le.fit(classs)\n",
    "classs = le.transform(classs)\n",
    "df['class'] = classs"
   ]
  },
  {
   "cell_type": "code",
   "execution_count": 59,
   "id": "07189525",
   "metadata": {},
   "outputs": [
    {
     "data": {
      "text/plain": [
       "array([2, 0, 3, 1])"
      ]
     },
     "execution_count": 59,
     "metadata": {},
     "output_type": "execute_result"
    }
   ],
   "source": [
    "df['class'].unique()"
   ]
  },
  {
   "cell_type": "code",
   "execution_count": 60,
   "id": "93c8fa49",
   "metadata": {},
   "outputs": [
    {
     "data": {
      "text/plain": [
       "buying      int32\n",
       "maint       int32\n",
       "doors       int32\n",
       "persons     int32\n",
       "lug_boot    int32\n",
       "safety      int32\n",
       "class       int32\n",
       "dtype: object"
      ]
     },
     "execution_count": 60,
     "metadata": {},
     "output_type": "execute_result"
    }
   ],
   "source": [
    "df.dtypes"
   ]
  },
  {
   "cell_type": "code",
   "execution_count": 61,
   "id": "d819d889",
   "metadata": {},
   "outputs": [
    {
     "data": {
      "text/html": [
       "<div>\n",
       "<style scoped>\n",
       "    .dataframe tbody tr th:only-of-type {\n",
       "        vertical-align: middle;\n",
       "    }\n",
       "\n",
       "    .dataframe tbody tr th {\n",
       "        vertical-align: top;\n",
       "    }\n",
       "\n",
       "    .dataframe thead th {\n",
       "        text-align: right;\n",
       "    }\n",
       "</style>\n",
       "<table border=\"1\" class=\"dataframe\">\n",
       "  <thead>\n",
       "    <tr style=\"text-align: right;\">\n",
       "      <th></th>\n",
       "      <th>buying</th>\n",
       "      <th>maint</th>\n",
       "      <th>doors</th>\n",
       "      <th>persons</th>\n",
       "      <th>lug_boot</th>\n",
       "      <th>safety</th>\n",
       "      <th>class</th>\n",
       "    </tr>\n",
       "  </thead>\n",
       "  <tbody>\n",
       "    <tr>\n",
       "      <th>0</th>\n",
       "      <td>3</td>\n",
       "      <td>3</td>\n",
       "      <td>2</td>\n",
       "      <td>2</td>\n",
       "      <td>0</td>\n",
       "      <td>0</td>\n",
       "      <td>2</td>\n",
       "    </tr>\n",
       "    <tr>\n",
       "      <th>1</th>\n",
       "      <td>3</td>\n",
       "      <td>3</td>\n",
       "      <td>2</td>\n",
       "      <td>2</td>\n",
       "      <td>0</td>\n",
       "      <td>1</td>\n",
       "      <td>2</td>\n",
       "    </tr>\n",
       "    <tr>\n",
       "      <th>2</th>\n",
       "      <td>3</td>\n",
       "      <td>3</td>\n",
       "      <td>2</td>\n",
       "      <td>2</td>\n",
       "      <td>0</td>\n",
       "      <td>2</td>\n",
       "      <td>2</td>\n",
       "    </tr>\n",
       "    <tr>\n",
       "      <th>3</th>\n",
       "      <td>3</td>\n",
       "      <td>3</td>\n",
       "      <td>2</td>\n",
       "      <td>2</td>\n",
       "      <td>1</td>\n",
       "      <td>0</td>\n",
       "      <td>2</td>\n",
       "    </tr>\n",
       "    <tr>\n",
       "      <th>4</th>\n",
       "      <td>3</td>\n",
       "      <td>3</td>\n",
       "      <td>2</td>\n",
       "      <td>2</td>\n",
       "      <td>1</td>\n",
       "      <td>1</td>\n",
       "      <td>2</td>\n",
       "    </tr>\n",
       "    <tr>\n",
       "      <th>5</th>\n",
       "      <td>3</td>\n",
       "      <td>3</td>\n",
       "      <td>2</td>\n",
       "      <td>2</td>\n",
       "      <td>1</td>\n",
       "      <td>2</td>\n",
       "      <td>2</td>\n",
       "    </tr>\n",
       "    <tr>\n",
       "      <th>6</th>\n",
       "      <td>3</td>\n",
       "      <td>3</td>\n",
       "      <td>2</td>\n",
       "      <td>2</td>\n",
       "      <td>2</td>\n",
       "      <td>0</td>\n",
       "      <td>2</td>\n",
       "    </tr>\n",
       "    <tr>\n",
       "      <th>7</th>\n",
       "      <td>3</td>\n",
       "      <td>3</td>\n",
       "      <td>2</td>\n",
       "      <td>2</td>\n",
       "      <td>2</td>\n",
       "      <td>1</td>\n",
       "      <td>2</td>\n",
       "    </tr>\n",
       "    <tr>\n",
       "      <th>8</th>\n",
       "      <td>3</td>\n",
       "      <td>3</td>\n",
       "      <td>2</td>\n",
       "      <td>2</td>\n",
       "      <td>2</td>\n",
       "      <td>2</td>\n",
       "      <td>2</td>\n",
       "    </tr>\n",
       "    <tr>\n",
       "      <th>9</th>\n",
       "      <td>3</td>\n",
       "      <td>3</td>\n",
       "      <td>2</td>\n",
       "      <td>4</td>\n",
       "      <td>0</td>\n",
       "      <td>0</td>\n",
       "      <td>2</td>\n",
       "    </tr>\n",
       "  </tbody>\n",
       "</table>\n",
       "</div>"
      ],
      "text/plain": [
       "   buying  maint  doors  persons  lug_boot  safety  class\n",
       "0       3      3      2        2         0       0      2\n",
       "1       3      3      2        2         0       1      2\n",
       "2       3      3      2        2         0       2      2\n",
       "3       3      3      2        2         1       0      2\n",
       "4       3      3      2        2         1       1      2\n",
       "5       3      3      2        2         1       2      2\n",
       "6       3      3      2        2         2       0      2\n",
       "7       3      3      2        2         2       1      2\n",
       "8       3      3      2        2         2       2      2\n",
       "9       3      3      2        4         0       0      2"
      ]
     },
     "execution_count": 61,
     "metadata": {},
     "output_type": "execute_result"
    }
   ],
   "source": [
    "df.head(10)"
   ]
  },
  {
   "cell_type": "code",
   "execution_count": 62,
   "id": "6d5ce5e6",
   "metadata": {},
   "outputs": [
    {
     "data": {
      "text/html": [
       "<div>\n",
       "<style scoped>\n",
       "    .dataframe tbody tr th:only-of-type {\n",
       "        vertical-align: middle;\n",
       "    }\n",
       "\n",
       "    .dataframe tbody tr th {\n",
       "        vertical-align: top;\n",
       "    }\n",
       "\n",
       "    .dataframe thead th {\n",
       "        text-align: right;\n",
       "    }\n",
       "</style>\n",
       "<table border=\"1\" class=\"dataframe\">\n",
       "  <thead>\n",
       "    <tr style=\"text-align: right;\">\n",
       "      <th></th>\n",
       "      <th>buying</th>\n",
       "      <th>maint</th>\n",
       "      <th>doors</th>\n",
       "      <th>persons</th>\n",
       "      <th>lug_boot</th>\n",
       "      <th>safety</th>\n",
       "      <th>class</th>\n",
       "    </tr>\n",
       "  </thead>\n",
       "  <tbody>\n",
       "    <tr>\n",
       "      <th>buying</th>\n",
       "      <td>1.000000e+00</td>\n",
       "      <td>-1.356939e-15</td>\n",
       "      <td>4.191709e-15</td>\n",
       "      <td>7.886258e-16</td>\n",
       "      <td>-1.045866e-16</td>\n",
       "      <td>-4.082114e-16</td>\n",
       "      <td>0.039603</td>\n",
       "    </tr>\n",
       "    <tr>\n",
       "      <th>maint</th>\n",
       "      <td>-1.356939e-15</td>\n",
       "      <td>1.000000e+00</td>\n",
       "      <td>7.812681e-16</td>\n",
       "      <td>1.822741e-16</td>\n",
       "      <td>8.544286e-17</td>\n",
       "      <td>-7.826398e-17</td>\n",
       "      <td>0.062064</td>\n",
       "    </tr>\n",
       "    <tr>\n",
       "      <th>doors</th>\n",
       "      <td>4.191709e-15</td>\n",
       "      <td>7.812681e-16</td>\n",
       "      <td>1.000000e+00</td>\n",
       "      <td>-9.989138e-17</td>\n",
       "      <td>-1.632846e-17</td>\n",
       "      <td>2.801175e-17</td>\n",
       "      <td>-0.031327</td>\n",
       "    </tr>\n",
       "    <tr>\n",
       "      <th>persons</th>\n",
       "      <td>7.886258e-16</td>\n",
       "      <td>1.822741e-16</td>\n",
       "      <td>-9.989138e-17</td>\n",
       "      <td>1.000000e+00</td>\n",
       "      <td>-1.438481e-17</td>\n",
       "      <td>7.570954e-18</td>\n",
       "      <td>-0.332399</td>\n",
       "    </tr>\n",
       "    <tr>\n",
       "      <th>lug_boot</th>\n",
       "      <td>-1.045866e-16</td>\n",
       "      <td>8.544286e-17</td>\n",
       "      <td>-1.632846e-17</td>\n",
       "      <td>-1.438481e-17</td>\n",
       "      <td>1.000000e+00</td>\n",
       "      <td>1.927471e-18</td>\n",
       "      <td>-0.033184</td>\n",
       "    </tr>\n",
       "    <tr>\n",
       "      <th>safety</th>\n",
       "      <td>-4.082114e-16</td>\n",
       "      <td>-7.826398e-17</td>\n",
       "      <td>2.801175e-17</td>\n",
       "      <td>7.570954e-18</td>\n",
       "      <td>1.927471e-18</td>\n",
       "      <td>1.000000e+00</td>\n",
       "      <td>-0.301896</td>\n",
       "    </tr>\n",
       "    <tr>\n",
       "      <th>class</th>\n",
       "      <td>3.960256e-02</td>\n",
       "      <td>6.206372e-02</td>\n",
       "      <td>-3.132740e-02</td>\n",
       "      <td>-3.323985e-01</td>\n",
       "      <td>-3.318432e-02</td>\n",
       "      <td>-3.018964e-01</td>\n",
       "      <td>1.000000</td>\n",
       "    </tr>\n",
       "  </tbody>\n",
       "</table>\n",
       "</div>"
      ],
      "text/plain": [
       "                buying         maint         doors       persons  \\\n",
       "buying    1.000000e+00 -1.356939e-15  4.191709e-15  7.886258e-16   \n",
       "maint    -1.356939e-15  1.000000e+00  7.812681e-16  1.822741e-16   \n",
       "doors     4.191709e-15  7.812681e-16  1.000000e+00 -9.989138e-17   \n",
       "persons   7.886258e-16  1.822741e-16 -9.989138e-17  1.000000e+00   \n",
       "lug_boot -1.045866e-16  8.544286e-17 -1.632846e-17 -1.438481e-17   \n",
       "safety   -4.082114e-16 -7.826398e-17  2.801175e-17  7.570954e-18   \n",
       "class     3.960256e-02  6.206372e-02 -3.132740e-02 -3.323985e-01   \n",
       "\n",
       "              lug_boot        safety     class  \n",
       "buying   -1.045866e-16 -4.082114e-16  0.039603  \n",
       "maint     8.544286e-17 -7.826398e-17  0.062064  \n",
       "doors    -1.632846e-17  2.801175e-17 -0.031327  \n",
       "persons  -1.438481e-17  7.570954e-18 -0.332399  \n",
       "lug_boot  1.000000e+00  1.927471e-18 -0.033184  \n",
       "safety    1.927471e-18  1.000000e+00 -0.301896  \n",
       "class    -3.318432e-02 -3.018964e-01  1.000000  "
      ]
     },
     "execution_count": 62,
     "metadata": {},
     "output_type": "execute_result"
    }
   ],
   "source": [
    "corr=df.corr()\n",
    "corr"
   ]
  },
  {
   "cell_type": "code",
   "execution_count": 64,
   "id": "e6f0af29",
   "metadata": {},
   "outputs": [
    {
     "data": {
      "text/plain": [
       "2    1210\n",
       "0     384\n",
       "1      69\n",
       "3      65\n",
       "Name: class, dtype: int64"
      ]
     },
     "execution_count": 64,
     "metadata": {},
     "output_type": "execute_result"
    }
   ],
   "source": [
    "df['class'].value_counts()"
   ]
  },
  {
   "cell_type": "code",
   "execution_count": 79,
   "id": "89cdfc54",
   "metadata": {},
   "outputs": [
    {
     "data": {
      "text/plain": [
       "<AxesSubplot:>"
      ]
     },
     "execution_count": 79,
     "metadata": {},
     "output_type": "execute_result"
    },
    {
     "data": {
      "image/png": "[encoded data removed]",
      "text/plain": [
       "<Figure size 720x720 with 2 Axes>"
      ]
     },
     "metadata": {
      "needs_background": "light"
     },
     "output_type": "display_data"
    }
   ],
   "source": [
    "plt.figure(figsize=(10,10))\n",
    "sns.heatmap(corr, cbar=True, square= True, fmt='.1f', annot=True, annot_kws={'size':15}, cmap='Greens')"
   ]
  },
  {
   "cell_type": "code",
   "execution_count": 66,
   "id": "bd2e9b72",
   "metadata": {},
   "outputs": [],
   "source": [
    "from sklearn.preprocessing import scale,StandardScaler,normalize,MinMaxScaler\n",
    "from sklearn.preprocessing import LabelEncoder\n",
    "label_encoder= LabelEncoder()\n",
    "\n",
    "ardata=normalize(df,norm='l2',axis=0)\n",
    "ardata = StandardScaler().fit(ardata).transform(ardata)\n",
    "ardata=MinMaxScaler(feature_range=(0,1)).fit_transform(ardata)\n",
    "DFdata=pd.DataFrame(ardata,columns=df.columns)\n",
    "data=DFdata[['buying','maint','doors','persons','lug_boot','safety']]\n",
    "labels = DFdata['class']\n",
    "labels = label_encoder.fit_transform(labels) "
   ]
  },
  {
   "cell_type": "code",
   "execution_count": 67,
   "id": "76cfae92",
   "metadata": {},
   "outputs": [],
   "source": [
    "X = data  \n",
    "y = labels"
   ]
  },
  {
   "cell_type": "code",
   "execution_count": 68,
   "id": "f6813634",
   "metadata": {},
   "outputs": [
    {
     "name": "stdout",
     "output_type": "stream",
     "text": [
      "(1382, 6)\n",
      "(346, 6)\n",
      "(1382,)\n",
      "(346,)\n"
     ]
    }
   ],
   "source": [
    "from sklearn.model_selection import train_test_split\n",
    "from sklearn.metrics import accuracy_score,mean_squared_error,confusion_matrix,classification_report\n",
    "\n",
    "X_train,X_test,y_train,y_test=train_test_split(X,y,test_size=0.20,random_state=0)\n",
    "print(X_train.shape)\n",
    "print(X_test.shape)\n",
    "print(y_train.shape)\n",
    "print(y_test.shape)"
   ]
  },
  {
   "cell_type": "code",
   "execution_count": 69,
   "id": "a130fb15",
   "metadata": {},
   "outputs": [
    {
     "name": "stdout",
     "output_type": "stream",
     "text": [
      "(1382, 6) (1382,)\n"
     ]
    }
   ],
   "source": [
    "from sklearn.neighbors import LocalOutlierFactor\n",
    "# identify outliers in the training dataset\n",
    "lof = LocalOutlierFactor()\n",
    "yhat = lof.fit_predict(X_train)\n",
    "# select all rows that are not outliers\n",
    "mask = yhat != -1\n",
    "X_train, y_train = X_train[mask], y_train[mask]\n",
    "# summarize the shape of the updated training dataset\n",
    "print(X_train.shape, y_train.shape)"
   ]
  },
  {
   "cell_type": "code",
   "execution_count": 70,
   "id": "6b129322",
   "metadata": {},
   "outputs": [],
   "source": [
    "# Feature Scaling\n",
    "from sklearn.preprocessing import StandardScaler\n",
    "sc = StandardScaler()\n",
    "X_train = sc.fit_transform(X_train)\n",
    "X_test = sc.transform(X_test)"
   ]
  },
  {
   "cell_type": "code",
   "execution_count": 71,
   "id": "351d9913",
   "metadata": {},
   "outputs": [
    {
     "name": "stdout",
     "output_type": "stream",
     "text": [
      "neighbors : 1 , score : 0.9508670520231214\n",
      "neighbors : 2 , score : 0.8901734104046243\n",
      "neighbors : 3 , score : 0.9653179190751445\n",
      "neighbors : 4 , score : 0.9421965317919075\n",
      "neighbors : 5 , score : 0.9739884393063584\n",
      "neighbors : 6 , score : 0.9364161849710982\n",
      "neighbors : 7 , score : 0.976878612716763\n",
      "neighbors : 8 , score : 0.9682080924855492\n",
      "neighbors : 9 , score : 0.976878612716763\n",
      "neighbors : 10 , score : 0.9682080924855492\n",
      "neighbors : 11 , score : 0.976878612716763\n",
      "neighbors : 12 , score : 0.9624277456647399\n",
      "neighbors : 13 , score : 0.9682080924855492\n",
      "neighbors : 14 , score : 0.9566473988439307\n",
      "neighbors : 15 , score : 0.9653179190751445\n",
      "neighbors : 16 , score : 0.9566473988439307\n",
      "neighbors : 17 , score : 0.976878612716763\n",
      "neighbors : 18 , score : 0.9682080924855492\n",
      "neighbors : 19 , score : 0.9653179190751445\n",
      "neighbors : 20 , score : 0.9653179190751445\n",
      "neighbors : 21 , score : 0.9624277456647399\n",
      "neighbors : 22 , score : 0.9508670520231214\n",
      "neighbors : 23 , score : 0.953757225433526\n",
      "neighbors : 24 , score : 0.9479768786127167\n",
      "neighbors : 25 , score : 0.9508670520231214\n",
      "neighbors : 26 , score : 0.953757225433526\n",
      "neighbors : 27 , score : 0.9595375722543352\n",
      "neighbors : 28 , score : 0.9450867052023122\n",
      "neighbors : 29 , score : 0.9393063583815029\n",
      "neighbors : 30 , score : 0.9421965317919075\n",
      "neighbors : 31 , score : 0.9393063583815029\n",
      "neighbors : 32 , score : 0.9393063583815029\n",
      "neighbors : 33 , score : 0.9421965317919075\n",
      "neighbors : 34 , score : 0.9364161849710982\n",
      "neighbors : 35 , score : 0.9450867052023122\n",
      "neighbors : 36 , score : 0.9364161849710982\n",
      "neighbors : 37 , score : 0.9393063583815029\n",
      "neighbors : 38 , score : 0.930635838150289\n",
      "neighbors : 39 , score : 0.9335260115606936\n",
      "neighbors : 40 , score : 0.9219653179190751\n",
      "neighbors : 41 , score : 0.9277456647398844\n",
      "neighbors : 42 , score : 0.9219653179190751\n",
      "neighbors : 43 , score : 0.930635838150289\n",
      "neighbors : 44 , score : 0.9161849710982659\n",
      "neighbors : 45 , score : 0.9248554913294798\n",
      "neighbors : 46 , score : 0.9132947976878613\n",
      "neighbors : 47 , score : 0.9248554913294798\n",
      "neighbors : 48 , score : 0.9161849710982659\n",
      "neighbors : 49 , score : 0.9190751445086706\n",
      "neighbors : 50 , score : 0.9190751445086706\n"
     ]
    }
   ],
   "source": [
    "from sklearn.neighbors import KNeighborsClassifier\n",
    "for i in range(1,50+1):\n",
    "    model= KNeighborsClassifier(n_neighbors=i)\n",
    "    model.fit(X_train,y_train)\n",
    "    Result=model.score(X_test,y_test)\n",
    "    print(f\"neighbors : {i} , score : {Result}\")"
   ]
  },
  {
   "cell_type": "code",
   "execution_count": 72,
   "id": "42be158f",
   "metadata": {},
   "outputs": [
    {
     "name": "stdout",
     "output_type": "stream",
     "text": [
      "The accuracy of KNN is:  0.98\n",
      "[[ 76   0   3   0]\n",
      " [  1  15   0   1]\n",
      " [  2   0 238   0]\n",
      " [  1   0   0   9]]\n",
      "              precision    recall  f1-score   support\n",
      "\n",
      "           0       0.95      0.96      0.96        79\n",
      "           1       1.00      0.88      0.94        17\n",
      "           2       0.99      0.99      0.99       240\n",
      "           3       0.90      0.90      0.90        10\n",
      "\n",
      "    accuracy                           0.98       346\n",
      "   macro avg       0.96      0.93      0.95       346\n",
      "weighted avg       0.98      0.98      0.98       346\n",
      "\n"
     ]
    },
    {
     "data": {
      "text/plain": [
       "<AxesSubplot:>"
      ]
     },
     "execution_count": 72,
     "metadata": {},
     "output_type": "execute_result"
    },
    {
     "data": {
      "image/png": "[encoded data removed]",
      "text/plain": [
       "<Figure size 432x288 with 2 Axes>"
      ]
     },
     "metadata": {
      "needs_background": "light"
     },
     "output_type": "display_data"
    }
   ],
   "source": [
    "# KNN Classifier\n",
    "from sklearn.neighbors import KNeighborsClassifier\n",
    "\n",
    "knn=KNeighborsClassifier(n_neighbors=7)\n",
    "knn.fit(X_train,y_train)\n",
    "y_pred=knn.predict(X_test)\n",
    "#print('y_predict={} \\n y_test  ={}'.format(y_pred,y_test))\n",
    "ac = accuracy_score(y_test,y_pred)\n",
    "print('The accuracy of KNN is: ', round(ac,2))\n",
    "cm = confusion_matrix(y_test, y_pred)\n",
    "print(cm)\n",
    "print(classification_report(y_test,y_pred))\n",
    "sns.heatmap(cm,annot=True)"
   ]
  },
  {
   "cell_type": "code",
   "execution_count": 74,
   "id": "138bf2cf",
   "metadata": {},
   "outputs": [
    {
     "name": "stdout",
     "output_type": "stream",
     "text": [
      "The accuracy of Decision Tree Classification is:  0.69 i= 1\n",
      "The accuracy of Decision Tree Classification is:  0.75 i= 2\n",
      "The accuracy of Decision Tree Classification is:  0.8 i= 3\n",
      "The accuracy of Decision Tree Classification is:  0.83 i= 4\n",
      "The accuracy of Decision Tree Classification is:  0.84 i= 5\n",
      "The accuracy of Decision Tree Classification is:  0.89 i= 6\n",
      "The accuracy of Decision Tree Classification is:  0.92 i= 7\n",
      "The accuracy of Decision Tree Classification is:  0.96 i= 8\n",
      "The accuracy of Decision Tree Classification is:  0.96 i= 9\n",
      "The accuracy of Decision Tree Classification is:  0.97 i= 10\n",
      "The accuracy of Decision Tree Classification is:  0.97 i= 11\n",
      "The accuracy of Decision Tree Classification is:  0.97 i= 12\n",
      "The accuracy of Decision Tree Classification is:  0.97 i= 13\n",
      "The accuracy of Decision Tree Classification is:  0.97 i= 14\n",
      "The accuracy of Decision Tree Classification is:  0.97 i= 15\n",
      "The accuracy of Decision Tree Classification is:  0.97 i= 16\n",
      "The accuracy of Decision Tree Classification is:  0.97 i= 17\n",
      "The accuracy of Decision Tree Classification is:  0.97 i= 18\n",
      "The accuracy of Decision Tree Classification is:  0.97 i= 19\n"
     ]
    }
   ],
   "source": [
    "from sklearn.tree import DecisionTreeClassifier\n",
    "\n",
    "for i in range(1,20):\n",
    "    classifier = DecisionTreeClassifier(criterion = 'entropy', max_depth = i, random_state=4)\n",
    "    classifier.fit(X_train, y_train)\n",
    "    y_pred = classifier.predict(X_test)\n",
    "    ac=metrics.accuracy_score(y_test, y_pred)\n",
    "    print('The accuracy of Decision Tree Classification is: ', round(ac,2),'i=',i)"
   ]
  },
  {
   "cell_type": "code",
   "execution_count": 75,
   "id": "aaa68ff8",
   "metadata": {},
   "outputs": [
    {
     "name": "stdout",
     "output_type": "stream",
     "text": [
      "The accuracy of Decision Tree Classification is:  0.97\n",
      "[[ 71   4   4   0]\n",
      " [  0  17   0   0]\n",
      " [  3   0 237   0]\n",
      " [  1   0   0   9]]\n",
      "              precision    recall  f1-score   support\n",
      "\n",
      "           0       0.95      0.90      0.92        79\n",
      "           1       0.81      1.00      0.89        17\n",
      "           2       0.98      0.99      0.99       240\n",
      "           3       1.00      0.90      0.95        10\n",
      "\n",
      "    accuracy                           0.97       346\n",
      "   macro avg       0.93      0.95      0.94       346\n",
      "weighted avg       0.97      0.97      0.97       346\n",
      "\n"
     ]
    },
    {
     "data": {
      "image/png": "[encoded data removed]",
      "text/plain": [
       "<Figure size 432x288 with 2 Axes>"
      ]
     },
     "metadata": {
      "needs_background": "light"
     },
     "output_type": "display_data"
    }
   ],
   "source": [
    "# Decision Tree Classifier\n",
    "from sklearn.tree import DecisionTreeClassifier\n",
    "classifier = DecisionTreeClassifier(criterion = 'entropy', max_depth = 10)\n",
    "classifier.fit(X_train, y_train)\n",
    "y_pred = classifier.predict(X_test)\n",
    "ac=metrics.accuracy_score(y_test, y_pred)\n",
    "print('The accuracy of Decision Tree Classification is: ', round(ac,2))\n",
    "cm = confusion_matrix(y_test, y_pred)\n",
    "print(cm)\n",
    "sns.heatmap(cm,annot=True)\n",
    "print(classification_report(y_test,y_pred))"
   ]
  },
  {
   "cell_type": "code",
   "execution_count": 76,
   "id": "c5cdd13a",
   "metadata": {},
   "outputs": [
    {
     "name": "stdout",
     "output_type": "stream",
     "text": [
      "The accuracy of Logistic Regression is:  0.77\n",
      "[[ 38   0  41   0]\n",
      " [ 14   0   3   0]\n",
      " [ 11   0 229   0]\n",
      " [ 10   0   0   0]]\n",
      "              precision    recall  f1-score   support\n",
      "\n",
      "           0       0.52      0.48      0.50        79\n",
      "           1       0.00      0.00      0.00        17\n",
      "           2       0.84      0.95      0.89       240\n",
      "           3       0.00      0.00      0.00        10\n",
      "\n",
      "    accuracy                           0.77       346\n",
      "   macro avg       0.34      0.36      0.35       346\n",
      "weighted avg       0.70      0.77      0.73       346\n",
      "\n"
     ]
    },
    {
     "data": {
      "image/png": "[encoded data removed]",
      "text/plain": [
       "<Figure size 432x288 with 2 Axes>"
      ]
     },
     "metadata": {
      "needs_background": "light"
     },
     "output_type": "display_data"
    }
   ],
   "source": [
    "# Classification LogisticRegression\n",
    "from sklearn.linear_model import LogisticRegression\n",
    "from sklearn.metrics import confusion_matrix\n",
    "LR = LogisticRegression(C=0.01, solver='liblinear').fit(X_train,y_train)\n",
    "y_pred = LR.predict(X_test)\n",
    "ac=metrics.accuracy_score(y_test, y_pred)\n",
    "print('The accuracy of Logistic Regression is: ', round(ac,2))\n",
    "cm = confusion_matrix(y_test, y_pred)\n",
    "print(cm)\n",
    "sns.heatmap(cm,annot=True)\n",
    "print(classification_report(y_test,y_pred))"
   ]
  },
  {
   "cell_type": "code",
   "execution_count": 77,
   "id": "c0650ef2",
   "metadata": {},
   "outputs": [
    {
     "name": "stdout",
     "output_type": "stream",
     "text": [
      "Accuracy of the SVM Model:  0.96\n",
      "[[ 75   2   2   0]\n",
      " [  1  14   0   2]\n",
      " [  5   0 235   0]\n",
      " [  1   0   0   9]]\n",
      "              precision    recall  f1-score   support\n",
      "\n",
      "           0       0.91      0.95      0.93        79\n",
      "           1       0.88      0.82      0.85        17\n",
      "           2       0.99      0.98      0.99       240\n",
      "           3       0.82      0.90      0.86        10\n",
      "\n",
      "    accuracy                           0.96       346\n",
      "   macro avg       0.90      0.91      0.91       346\n",
      "weighted avg       0.96      0.96      0.96       346\n",
      "\n"
     ]
    },
    {
     "data": {
      "image/png": "[encoded data removed]",
      "text/plain": [
       "<Figure size 432x288 with 2 Axes>"
      ]
     },
     "metadata": {
      "needs_background": "light"
     },
     "output_type": "display_data"
    }
   ],
   "source": [
    "# Classification SVM\n",
    "from sklearn import svm\n",
    "clf = svm.SVC(kernel='rbf')\n",
    "clf.fit(X_train, y_train) \n",
    "y_pred = clf.predict(X_test)\n",
    "accuracy = accuracy_score(y_test, y_pred)\n",
    "print(\"Accuracy of the SVM Model: \",round(accuracy,2))\n",
    "cm = confusion_matrix(y_test, y_pred)\n",
    "print(cm)\n",
    "sns.heatmap(cm,annot=True)\n",
    "print(classification_report(y_test,y_pred))"
   ]
  },
  {
   "cell_type": "code",
   "execution_count": 80,
   "id": "7a396ea1",
   "metadata": {},
   "outputs": [
    {
     "name": "stdout",
     "output_type": "stream",
     "text": [
      "The accuracy of Naive bayes is:  0.7254335260115607\n",
      "[[ 22   5  16  36]\n",
      " [  6   3   0   8]\n",
      " [ 19   0 216   5]\n",
      " [  0   0   0  10]]\n",
      "              precision    recall  f1-score   support\n",
      "\n",
      "           0       0.47      0.28      0.35        79\n",
      "           1       0.38      0.18      0.24        17\n",
      "           2       0.93      0.90      0.92       240\n",
      "           3       0.17      1.00      0.29        10\n",
      "\n",
      "    accuracy                           0.73       346\n",
      "   macro avg       0.49      0.59      0.45       346\n",
      "weighted avg       0.78      0.73      0.73       346\n",
      "\n"
     ]
    },
    {
     "data": {
      "image/png": "[encoded data removed]",
      "text/plain": [
       "<Figure size 432x288 with 2 Axes>"
      ]
     },
     "metadata": {
      "needs_background": "light"
     },
     "output_type": "display_data"
    }
   ],
   "source": [
    "# Naive Bayes Classifier\n",
    "from sklearn.naive_bayes import GaussianNB\n",
    "classifier = GaussianNB()\n",
    "classifier.fit(X_train, y_train)\n",
    "y_pred = classifier.predict(X_test)\n",
    "ac = accuracy_score(y_test,y_pred)\n",
    "print('The accuracy of Naive bayes is: ', ac)\n",
    "cm = confusion_matrix(y_test, y_pred)\n",
    "print(cm)\n",
    "sns.heatmap(cm,annot=True)\n",
    "print(classification_report(y_test,y_pred))"
   ]
  },
  {
   "cell_type": "code",
   "execution_count": null,
   "id": "d2ba600f",
   "metadata": {},
   "outputs": [],
   "source": []
  }
 ],
 "metadata": {
  "kernelspec": {
   "display_name": "Python 3 (ipykernel)",
   "language": "python",
   "name": "python3"
  },
  "language_info": {
   "codemirror_mode": {
    "name": "ipython",
    "version": 3
   },
   "file_extension": ".py",
   "mimetype": "text/x-python",
   "name": "python",
   "nbconvert_exporter": "python",
   "pygments_lexer": "ipython3",
   "version": "3.7.9"
  }
 },
 "nbformat": 4,
 "nbformat_minor": 5
}
